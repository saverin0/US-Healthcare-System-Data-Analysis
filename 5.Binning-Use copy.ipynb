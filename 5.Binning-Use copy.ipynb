{
 "cells": [
  {
   "cell_type": "markdown",
   "id": "3301186f-3cd9-4386-9863-f6248ba90d2f",
   "metadata": {},
   "source": [
    "## Overview\n",
    "Binning \"Age\" column is Common age ranges for health-related analysis include the following categories. By Fixed Interval Binning, a simple method to create age groups. Analyze different age groups and plan typestogether affect the dependent variable (x)"
   ]
  },
  {
   "cell_type": "markdown",
   "id": "f2942698-9585-4406-8a9b-7336c2db28e1",
   "metadata": {},
   "source": [
    "### Objective\n",
    "1. Loading and inspecting dataset\n",
    "2. Binning \"Age\" column\n",
    "3. Observations\n",
    "4. Handle unnecessary columns"
   ]
  },
  {
   "cell_type": "markdown",
   "id": "7217625a-1dbe-47fc-936e-ad441007f5e7",
   "metadata": {},
   "source": [
    "### 1. Loading and inspecting dataset\n",
    "#### import library\n",
    "1. pandas that it allows you to create, manipulate, and analyze datasets efficiently.\n",
    "2. numpy that it provides support for arrays, matrices, and various mathematical functions.\n",
    "3. seaborn that it provides high-level functions to create attractive and informative plots.\n",
    "4. matplotlib is a foundational library for creating static, interactive, and animated visualizations."
   ]
  },
  {
   "cell_type": "code",
   "execution_count": 1,
   "id": "824e2fd7-c8d1-439a-90ec-e39bc0e8a730",
   "metadata": {},
   "outputs": [
    {
     "name": "stdout",
     "output_type": "stream",
     "text": [
      "The history saving thread hit an unexpected error (OperationalError('attempt to write a readonly database')).History will not be written to the database.\n"
     ]
    }
   ],
   "source": [
    "import pandas as pd\n",
    "import numpy as np\n",
    "import seaborn as sns\n",
    "import matplotlib.pyplot as plt"
   ]
  },
  {
   "cell_type": "code",
   "execution_count": 2,
   "id": "16232be8-3d8b-4269-a583-5b667878c23e",
   "metadata": {},
   "outputs": [
    {
     "name": "stdout",
     "output_type": "stream",
     "text": [
      "<class 'pandas.core.frame.DataFrame'>\n",
      "RangeIndex: 6000 entries, 0 to 5999\n",
      "Data columns (total 5 columns):\n",
      " #   Column               Non-Null Count  Dtype  \n",
      "---  ------               --------------  -----  \n",
      " 0   Unnamed: 0           6000 non-null   int64  \n",
      " 1   StandardComponentId  6000 non-null   object \n",
      " 2   Age                  6000 non-null   int64  \n",
      " 3   PlanType             6000 non-null   object \n",
      " 4   Copayment            6000 non-null   float64\n",
      "dtypes: float64(1), int64(2), object(2)\n",
      "memory usage: 234.5+ KB\n"
     ]
    }
   ],
   "source": [
    "# Load the dataset csv file merge all value that use analyze from 4.Final_Merge_Benefit_Left-Use.ipynb\n",
    "df = pd.read_csv(\"cleaned.csv\",low_memory=False)\n",
    "\n",
    "# display all columns, Non-Null Count and Dtype\n",
    "df.info()"
   ]
  },
  {
   "cell_type": "code",
   "execution_count": 3,
   "id": "ca1ddc98-0ea5-49be-821b-30fb7f4db532",
   "metadata": {},
   "outputs": [
    {
     "name": "stdout",
     "output_type": "stream",
     "text": [
      "[20 21 22 23 24 25 26 27 28 29 30 31 32 33 34 35 36 37 38 39 40 41 42 43\n",
      " 44 45 46 47 48 49 50 51 52 53 54 55 56 57 58 59 60 61 62 63 64 65]\n"
     ]
    }
   ],
   "source": [
    "# Sort Age\n",
    "sorted_ages = np.sort(df['Age'].unique())\n",
    "print(sorted_ages)"
   ]
  },
  {
   "cell_type": "code",
   "execution_count": 4,
   "id": "4c50cd83-be33-408d-9110-a7f759ad92a0",
   "metadata": {},
   "outputs": [
    {
     "data": {
      "text/html": [
       "<div>\n",
       "<style scoped>\n",
       "    .dataframe tbody tr th:only-of-type {\n",
       "        vertical-align: middle;\n",
       "    }\n",
       "\n",
       "    .dataframe tbody tr th {\n",
       "        vertical-align: top;\n",
       "    }\n",
       "\n",
       "    .dataframe thead th {\n",
       "        text-align: right;\n",
       "    }\n",
       "</style>\n",
       "<table border=\"1\" class=\"dataframe\">\n",
       "  <thead>\n",
       "    <tr style=\"text-align: right;\">\n",
       "      <th></th>\n",
       "      <th>Unnamed: 0</th>\n",
       "      <th>StandardComponentId</th>\n",
       "      <th>Age</th>\n",
       "      <th>PlanType</th>\n",
       "      <th>Copayment</th>\n",
       "    </tr>\n",
       "  </thead>\n",
       "  <tbody>\n",
       "    <tr>\n",
       "      <th>0</th>\n",
       "      <td>0</td>\n",
       "      <td>40540TX0080003</td>\n",
       "      <td>20</td>\n",
       "      <td>PPO</td>\n",
       "      <td>0.0</td>\n",
       "    </tr>\n",
       "    <tr>\n",
       "      <th>1</th>\n",
       "      <td>1</td>\n",
       "      <td>18973IA0210004</td>\n",
       "      <td>20</td>\n",
       "      <td>POS</td>\n",
       "      <td>0.0</td>\n",
       "    </tr>\n",
       "    <tr>\n",
       "      <th>2</th>\n",
       "      <td>2</td>\n",
       "      <td>88380VA0720012</td>\n",
       "      <td>20</td>\n",
       "      <td>HMO</td>\n",
       "      <td>0.0</td>\n",
       "    </tr>\n",
       "    <tr>\n",
       "      <th>3</th>\n",
       "      <td>3</td>\n",
       "      <td>58255OH0200001</td>\n",
       "      <td>20</td>\n",
       "      <td>PPO</td>\n",
       "      <td>0.0</td>\n",
       "    </tr>\n",
       "    <tr>\n",
       "      <th>4</th>\n",
       "      <td>4</td>\n",
       "      <td>52664OH1510013</td>\n",
       "      <td>20</td>\n",
       "      <td>PPO</td>\n",
       "      <td>0.0</td>\n",
       "    </tr>\n",
       "  </tbody>\n",
       "</table>\n",
       "</div>"
      ],
      "text/plain": [
       "   Unnamed: 0 StandardComponentId  Age PlanType  Copayment\n",
       "0           0      40540TX0080003   20      PPO        0.0\n",
       "1           1      18973IA0210004   20      POS        0.0\n",
       "2           2      88380VA0720012   20      HMO        0.0\n",
       "3           3      58255OH0200001   20      PPO        0.0\n",
       "4           4      52664OH1510013   20      PPO        0.0"
      ]
     },
     "execution_count": 4,
     "metadata": {},
     "output_type": "execute_result"
    }
   ],
   "source": [
    "# display first 5 rows\n",
    "df.head()"
   ]
  },
  {
   "cell_type": "markdown",
   "id": "f09e8264-7574-49b9-bfb2-9ad2484186b9",
   "metadata": {},
   "source": [
    "### 2. Binning \"Age\" column\n",
    "1. Common age ranges for health-related analysis include the following categories\n",
    "2. By Fixed Interval Binning, a simple method to create age groups\n",
    "3. Analyze different age groups and plan types together affect the dependent variable (x) \n",
    "    - 0-20: Typically, those who are minors and covered under parents' or guardians' health insurance plans.\n",
    "    - 21-25: Young adults, often covered under parental insurance until 26.\n",
    "    - 26-40: Typically, adults in early to mid-career stages, where private insurance plans or employer-sponsored plans become more common.\n",
    "    - 41-60: Pre-retirement age group, often with an increased focus on preventative care and management of chronic conditions.\n",
    "    - 61-64: Near-retirement age, typically covered under employer-sponsored plans or private health insurance, just before eligibility for Medicare.\n",
    "    - 65+: Seniors eligible for Medicare\n",
    "4. Create a new column for age bins"
   ]
  },
  {
   "cell_type": "code",
   "execution_count": 5,
   "id": "52f46536-fa36-47ba-9c69-9bacd49aa558",
   "metadata": {},
   "outputs": [],
   "source": [
    "# Common age bins for health-related analysis include the following categories \n",
    "# by Fixed Interval Binning, a simple approach to create age bins \n",
    "# and to analyze how different age groups and plan types together affect the dependent variable\n",
    "# 1. 0-20: Typically, those who are minors and covered under parents' or guardians' health insurance plans.\n",
    "# 2. 21-25: Young adults, often covered under parental insurance until 26.\n",
    "# 3. 26-40: Typically, adults in early to mid-career stages, where private insurance plans or employer-sponsored plans become more common.\n",
    "# 4. 41-60: Pre-retirement age group, often with an increased focus on preventative care and management of chronic conditions.\n",
    "# 5. 61-64: Near-retirement age, typically covered under employer-sponsored plans or private health insurance, just before eligibility for Medicare.\n",
    "# 6. 65+: Seniors eligible for Medicare\n",
    "\n",
    "bins = [0,21, 26, 41, 61, 65, float('inf')]  # Define age ranges\n",
    "labels = ['0-20', '21-25', '26-40', '41-60', '61-64', '65+']  # Corresponding labels\n",
    "\n",
    "# Create a new column for age bins\n",
    "df['AgeGroup'] = pd.cut(df['Age'], bins=bins, labels=labels, right=False)\n",
    "df_final = df[['AgeGroup', 'Age', 'PlanType','Copayment']].reset_index().sort_values(by='AgeGroup')\n",
    "#df_sorted = df_ra_clean[['AgeGroup', 'PlanId']].value_counts().reset_index(name='Count').sort_values(by='AgeGroup')"
   ]
  },
  {
   "cell_type": "code",
   "execution_count": 6,
   "id": "f7535bdb-b093-4545-8680-01bcfae9447a",
   "metadata": {},
   "outputs": [
    {
     "name": "stdout",
     "output_type": "stream",
     "text": [
      "<class 'pandas.core.frame.DataFrame'>\n",
      "Index: 6000 entries, 0 to 5999\n",
      "Data columns (total 5 columns):\n",
      " #   Column     Non-Null Count  Dtype   \n",
      "---  ------     --------------  -----   \n",
      " 0   index      6000 non-null   int64   \n",
      " 1   AgeGroup   6000 non-null   category\n",
      " 2   Age        6000 non-null   int64   \n",
      " 3   PlanType   6000 non-null   object  \n",
      " 4   Copayment  6000 non-null   float64 \n",
      "dtypes: category(1), float64(1), int64(2), object(1)\n",
      "memory usage: 240.4+ KB\n"
     ]
    }
   ],
   "source": [
    "# reset_index\n",
    "df_final.reset_index(drop=True)\n",
    "\n",
    "# display all columns, Non-Null Count and Dtype\n",
    "df_final.info()"
   ]
  },
  {
   "cell_type": "markdown",
   "id": "5f00df8d-de98-41f6-9148-88099daa11f6",
   "metadata": {},
   "source": [
    "### 3. Observations\n",
    "1. **Total raws and colums:** The dataset contains 6,000 rows(entries) and 5 columns\n",
    "2. **Data Types and possible issues**\n",
    "    - 2 Columns are int64: **Index, Age**\n",
    "    - 1 Columns are category: **AgeGroup**\n",
    "    - 1 Columns are object: **PlanType**\n",
    "    - 1 Columns are float64: **Copayment**"
   ]
  },
  {
   "cell_type": "code",
   "execution_count": 7,
   "id": "6da65b15-4d37-41ba-87b8-332eed67d185",
   "metadata": {},
   "outputs": [
    {
     "data": {
      "text/html": [
       "<div>\n",
       "<style scoped>\n",
       "    .dataframe tbody tr th:only-of-type {\n",
       "        vertical-align: middle;\n",
       "    }\n",
       "\n",
       "    .dataframe tbody tr th {\n",
       "        vertical-align: top;\n",
       "    }\n",
       "\n",
       "    .dataframe thead th {\n",
       "        text-align: right;\n",
       "    }\n",
       "</style>\n",
       "<table border=\"1\" class=\"dataframe\">\n",
       "  <thead>\n",
       "    <tr style=\"text-align: right;\">\n",
       "      <th></th>\n",
       "      <th>index</th>\n",
       "      <th>AgeGroup</th>\n",
       "      <th>Age</th>\n",
       "      <th>PlanType</th>\n",
       "      <th>Copayment</th>\n",
       "    </tr>\n",
       "  </thead>\n",
       "  <tbody>\n",
       "    <tr>\n",
       "      <th>0</th>\n",
       "      <td>0</td>\n",
       "      <td>0-20</td>\n",
       "      <td>20</td>\n",
       "      <td>PPO</td>\n",
       "      <td>0.0</td>\n",
       "    </tr>\n",
       "    <tr>\n",
       "      <th>658</th>\n",
       "      <td>658</td>\n",
       "      <td>0-20</td>\n",
       "      <td>20</td>\n",
       "      <td>PPO</td>\n",
       "      <td>0.0</td>\n",
       "    </tr>\n",
       "    <tr>\n",
       "      <th>659</th>\n",
       "      <td>659</td>\n",
       "      <td>0-20</td>\n",
       "      <td>20</td>\n",
       "      <td>Indemnity</td>\n",
       "      <td>0.0</td>\n",
       "    </tr>\n",
       "    <tr>\n",
       "      <th>660</th>\n",
       "      <td>660</td>\n",
       "      <td>0-20</td>\n",
       "      <td>20</td>\n",
       "      <td>PPO</td>\n",
       "      <td>0.0</td>\n",
       "    </tr>\n",
       "    <tr>\n",
       "      <th>661</th>\n",
       "      <td>661</td>\n",
       "      <td>0-20</td>\n",
       "      <td>20</td>\n",
       "      <td>EPO</td>\n",
       "      <td>0.0</td>\n",
       "    </tr>\n",
       "  </tbody>\n",
       "</table>\n",
       "</div>"
      ],
      "text/plain": [
       "     index AgeGroup  Age   PlanType  Copayment\n",
       "0        0     0-20   20        PPO        0.0\n",
       "658    658     0-20   20        PPO        0.0\n",
       "659    659     0-20   20  Indemnity        0.0\n",
       "660    660     0-20   20        PPO        0.0\n",
       "661    661     0-20   20        EPO        0.0"
      ]
     },
     "execution_count": 7,
     "metadata": {},
     "output_type": "execute_result"
    }
   ],
   "source": [
    "# display first 5 rows\n",
    "df_final.head()"
   ]
  },
  {
   "cell_type": "code",
   "execution_count": 8,
   "id": "6decb07f-ea6a-490d-a9be-245d165bbea0",
   "metadata": {},
   "outputs": [
    {
     "data": {
      "text/plain": [
       "['0-20', '21-25', '26-40', '41-60', '61-64', '65+']\n",
       "Categories (6, object): ['0-20' < '21-25' < '26-40' < '41-60' < '61-64' < '65+']"
      ]
     },
     "execution_count": 8,
     "metadata": {},
     "output_type": "execute_result"
    }
   ],
   "source": [
    "# Check for unique values in the AgeGroup column\n",
    "df_final['AgeGroup'].unique()"
   ]
  },
  {
   "cell_type": "code",
   "execution_count": 9,
   "id": "a0ff0aba-597d-4f08-a499-8313f7fb2b22",
   "metadata": {},
   "outputs": [
    {
     "data": {
      "text/plain": [
       "array(['PPO', 'Indemnity', 'EPO', 'HMO', 'POS'], dtype=object)"
      ]
     },
     "execution_count": 9,
     "metadata": {},
     "output_type": "execute_result"
    }
   ],
   "source": [
    "# Check for unique values in the PlanType column\n",
    "df_final['PlanType'].unique()"
   ]
  },
  {
   "cell_type": "code",
   "execution_count": 10,
   "id": "fc54a468-ba4b-409b-b740-5520c21b9106",
   "metadata": {},
   "outputs": [
    {
     "data": {
      "text/plain": [
       "array([20, 24, 23, 21, 25, 22, 39, 38, 32, 40, 29, 28, 31, 34, 36, 33, 37,\n",
       "       26, 30, 35, 27, 44, 57, 50, 51, 47, 54, 59, 48, 45, 52, 55, 56, 42,\n",
       "       41, 49, 53, 60, 46, 58, 43, 63, 62, 61, 64, 65])"
      ]
     },
     "execution_count": 10,
     "metadata": {},
     "output_type": "execute_result"
    }
   ],
   "source": [
    "# Check for unique values in the Age column\n",
    "df_final['Age'].unique()"
   ]
  },
  {
   "cell_type": "markdown",
   "id": "435e2d61-f815-460b-8c07-a222b20995ec",
   "metadata": {},
   "source": [
    "### 4. Handle unnecessary columns\n",
    "1. Drop 'index' columns\n",
    "2. Create CSV file"
   ]
  },
  {
   "cell_type": "code",
   "execution_count": 11,
   "id": "9c700105-f0dd-4b67-81cf-7ac6f4615c25",
   "metadata": {},
   "outputs": [
    {
     "data": {
      "text/html": [
       "<div>\n",
       "<style scoped>\n",
       "    .dataframe tbody tr th:only-of-type {\n",
       "        vertical-align: middle;\n",
       "    }\n",
       "\n",
       "    .dataframe tbody tr th {\n",
       "        vertical-align: top;\n",
       "    }\n",
       "\n",
       "    .dataframe thead th {\n",
       "        text-align: right;\n",
       "    }\n",
       "</style>\n",
       "<table border=\"1\" class=\"dataframe\">\n",
       "  <thead>\n",
       "    <tr style=\"text-align: right;\">\n",
       "      <th></th>\n",
       "      <th>AgeGroup</th>\n",
       "      <th>Age</th>\n",
       "      <th>PlanType</th>\n",
       "      <th>Copayment</th>\n",
       "    </tr>\n",
       "  </thead>\n",
       "  <tbody>\n",
       "    <tr>\n",
       "      <th>0</th>\n",
       "      <td>0-20</td>\n",
       "      <td>20</td>\n",
       "      <td>PPO</td>\n",
       "      <td>0.0</td>\n",
       "    </tr>\n",
       "    <tr>\n",
       "      <th>658</th>\n",
       "      <td>0-20</td>\n",
       "      <td>20</td>\n",
       "      <td>PPO</td>\n",
       "      <td>0.0</td>\n",
       "    </tr>\n",
       "    <tr>\n",
       "      <th>659</th>\n",
       "      <td>0-20</td>\n",
       "      <td>20</td>\n",
       "      <td>Indemnity</td>\n",
       "      <td>0.0</td>\n",
       "    </tr>\n",
       "    <tr>\n",
       "      <th>660</th>\n",
       "      <td>0-20</td>\n",
       "      <td>20</td>\n",
       "      <td>PPO</td>\n",
       "      <td>0.0</td>\n",
       "    </tr>\n",
       "    <tr>\n",
       "      <th>661</th>\n",
       "      <td>0-20</td>\n",
       "      <td>20</td>\n",
       "      <td>EPO</td>\n",
       "      <td>0.0</td>\n",
       "    </tr>\n",
       "  </tbody>\n",
       "</table>\n",
       "</div>"
      ],
      "text/plain": [
       "    AgeGroup  Age   PlanType  Copayment\n",
       "0       0-20   20        PPO        0.0\n",
       "658     0-20   20        PPO        0.0\n",
       "659     0-20   20  Indemnity        0.0\n",
       "660     0-20   20        PPO        0.0\n",
       "661     0-20   20        EPO        0.0"
      ]
     },
     "execution_count": 11,
     "metadata": {},
     "output_type": "execute_result"
    }
   ],
   "source": [
    "# Step1: Drop 'index' columns\n",
    "df_final = df_final.drop(columns=['index'])\n",
    "# display first 5 rows\n",
    "df_final.head()"
   ]
  },
  {
   "cell_type": "code",
   "execution_count": 12,
   "id": "ab9e6db6-93d5-4c9b-ab79-e5482412da9e",
   "metadata": {},
   "outputs": [],
   "source": [
    "# Create CSV file\n",
    "df_final.to_csv('final_binning.csv')"
   ]
  }
 ],
 "metadata": {
  "kernelspec": {
   "display_name": "Python 3 (ipykernel)",
   "language": "python",
   "name": "python3"
  },
  "language_info": {
   "codemirror_mode": {
    "name": "ipython",
    "version": 3
   },
   "file_extension": ".py",
   "mimetype": "text/x-python",
   "name": "python",
   "nbconvert_exporter": "python",
   "pygments_lexer": "ipython3",
   "version": "3.12.6"
  }
 },
 "nbformat": 4,
 "nbformat_minor": 5
}
