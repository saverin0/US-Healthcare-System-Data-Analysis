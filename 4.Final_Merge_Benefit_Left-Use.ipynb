{
 "cells": [
  {
   "cell_type": "markdown",
   "id": "8c5af003-4650-4fb6-bdf9-0fc86c4d8be1",
   "metadata": {},
   "source": [
    "## Overview\n",
    "Merge data between sample population data of 6000 records, Plantype and MatalLevel in PlanAttributes, Benefitname and Copayment in BenefitCostSharing to combine into one data for easy analysis is [AgeGroup, PlanType, Copayment]"
   ]
  },
  {
   "cell_type": "markdown",
   "id": "e433a88f-5495-4ea7-95df-ef255d01afac",
   "metadata": {},
   "source": [
    "### Objectives\n",
    "1. Loading and inspecting dataset\n",
    "2. Merge sample population 6000 records, PlanType with Copayment\n",
    "3. Select Only Column that use to analyze"
   ]
  },
  {
   "cell_type": "markdown",
   "id": "d189fbef-144c-4d2e-af3c-d69441e9cf1c",
   "metadata": {},
   "source": [
    "### 1. Loading and inspecting dataset\n",
    "#### import library\n",
    "1. pandas that it allows you to create, manipulate, and analyze datasets efficiently.\n",
    "2. numpy that it provides support for arrays, matrices, and various mathematical functions.\n",
    "3. seaborn that it provides high-level functions to create attractive and informative plots.\n",
    "4. matplotlib is a foundational library for creating static, interactive, and animated visualizations."
   ]
  },
  {
   "cell_type": "code",
   "execution_count": 34,
   "id": "98196714-946f-4695-98dc-98bad83ecf1f",
   "metadata": {},
   "outputs": [],
   "source": [
    "import pandas as pd\n",
    "import numpy as np\n",
    "import seaborn as sns\n",
    "import matplotlib.pyplot as plt"
   ]
  },
  {
   "cell_type": "code",
   "execution_count": 35,
   "id": "9b8f0d95-69e4-4f4f-be15-5a309040cf26",
   "metadata": {},
   "outputs": [
    {
     "name": "stdout",
     "output_type": "stream",
     "text": [
      "<class 'pandas.core.frame.DataFrame'>\n",
      "RangeIndex: 6549 entries, 0 to 6548\n",
      "Data columns (total 7 columns):\n",
      " #   Column               Non-Null Count  Dtype  \n",
      "---  ------               --------------  -----  \n",
      " 0   Unnamed: 0           6549 non-null   int64  \n",
      " 1   StandardComponentId  6549 non-null   object \n",
      " 2   BenefitName          6549 non-null   object \n",
      " 3   CopayInnTier1        6549 non-null   object \n",
      " 4   Copayment            6549 non-null   int64  \n",
      " 5   Description          6549 non-null   object \n",
      " 6   Mean_Copayment       6549 non-null   float64\n",
      "dtypes: float64(1), int64(2), object(4)\n",
      "memory usage: 358.3+ KB\n"
     ]
    },
    {
     "data": {
      "text/plain": [
       "Unnamed: 0             0\n",
       "StandardComponentId    0\n",
       "BenefitName            0\n",
       "CopayInnTier1          0\n",
       "Copayment              0\n",
       "Description            0\n",
       "Mean_Copayment         0\n",
       "dtype: int64"
      ]
     },
     "execution_count": 35,
     "metadata": {},
     "output_type": "execute_result"
    }
   ],
   "source": [
    "# Load the dataset Benefitcostsharing after cleaning from 3.BenefitCostSharing_clean_mean-Use.ipynb\n",
    "df_bm = pd.read_csv(\"clean_benefitcostsharing_mean_no_duplicates.csv\",low_memory=False)\n",
    "\n",
    "# display all columns, Non-Null Count and Dtype\n",
    "df_bm.info()\n",
    "\n",
    "# Check NaN value sum\n",
    "df_bm.isna().sum()"
   ]
  },
  {
   "cell_type": "code",
   "execution_count": 36,
   "id": "45f63ee9-c60f-42bf-bddf-67776090ee7e",
   "metadata": {},
   "outputs": [
    {
     "name": "stdout",
     "output_type": "stream",
     "text": [
      "<class 'pandas.core.frame.DataFrame'>\n",
      "RangeIndex: 6000 entries, 0 to 5999\n",
      "Data columns (total 9 columns):\n",
      " #   Column               Non-Null Count  Dtype \n",
      "---  ------               --------------  ----- \n",
      " 0   Unnamed: 0.1         6000 non-null   int64 \n",
      " 1   Unnamed: 0           6000 non-null   int64 \n",
      " 2   index_x              6000 non-null   int64 \n",
      " 3   Age                  6000 non-null   int64 \n",
      " 4   PlanId               6000 non-null   object\n",
      " 5   index_y              6000 non-null   int64 \n",
      " 6   StandardComponentId  6000 non-null   object\n",
      " 7   PlanType             6000 non-null   object\n",
      " 8   MetalLevel           6000 non-null   object\n",
      "dtypes: int64(5), object(4)\n",
      "memory usage: 422.0+ KB\n"
     ]
    },
    {
     "data": {
      "text/plain": [
       "Unnamed: 0.1           0\n",
       "Unnamed: 0             0\n",
       "index_x                0\n",
       "Age                    0\n",
       "PlanId                 0\n",
       "index_y                0\n",
       "StandardComponentId    0\n",
       "PlanType               0\n",
       "MetalLevel             0\n",
       "dtype: int64"
      ]
     },
     "execution_count": 36,
     "metadata": {},
     "output_type": "execute_result"
    }
   ],
   "source": [
    "# Load the dataset sample after merged plantype from 2.rateBinning_merged_PlanType_Metal-Use\n",
    "df_sm = pd.read_csv(\"sample_merged_plantype.csv\",low_memory=False)\n",
    "\n",
    "# display all columns, Non-Null Count and Dtype\n",
    "df_sm.info()\n",
    "\n",
    "# Check NaN value sum\n",
    "df_sm.isna().sum()"
   ]
  },
  {
   "cell_type": "markdown",
   "id": "2319d473-2af9-4d53-bacb-06427e0f4ed8",
   "metadata": {},
   "source": [
    "### 2. Merge sample population 6000 records, PlanType with Copayment\n",
    "1. Merge dr_sm = sample_merged_plantype.csv and \"StandardComponentId\" clean_benefitcostsharing_mean_no_duplicates.csv with \"StandardComponentId\"\n",
    "2. Check NaN value\n",
    "3. Fill 0 value replaced with NaN value\n",
    "4. Drop unnecessary columns"
   ]
  },
  {
   "cell_type": "code",
   "execution_count": 37,
   "id": "994764cc-6af7-4f32-bff8-fc8abf45a359",
   "metadata": {},
   "outputs": [
    {
     "name": "stdout",
     "output_type": "stream",
     "text": [
      "(6000, 15)\n"
     ]
    }
   ],
   "source": [
    "# Step1: Merge\n",
    "# Perform the merge\n",
    "merged_df = pd.merge(df_sm, df_bm, on='StandardComponentId', how='left')\n",
    "\n",
    "# Check the number of rows\n",
    "print(merged_df.shape)"
   ]
  },
  {
   "cell_type": "code",
   "execution_count": 38,
   "id": "b2ecb40f-7614-4059-bdce-935d829af116",
   "metadata": {},
   "outputs": [
    {
     "data": {
      "text/plain": [
       "Unnamed: 0.1            0\n",
       "Unnamed: 0_x            0\n",
       "index_x                 0\n",
       "Age                     0\n",
       "PlanId                  0\n",
       "index_y                 0\n",
       "StandardComponentId     0\n",
       "PlanType                0\n",
       "MetalLevel              0\n",
       "Unnamed: 0_y           45\n",
       "BenefitName            45\n",
       "CopayInnTier1          45\n",
       "Copayment              45\n",
       "Description            45\n",
       "Mean_Copayment         45\n",
       "dtype: int64"
      ]
     },
     "execution_count": 38,
     "metadata": {},
     "output_type": "execute_result"
    }
   ],
   "source": [
    "# Step2: Check NaN value sum\n",
    "merged_df.isnull().sum()"
   ]
  },
  {
   "cell_type": "code",
   "execution_count": 39,
   "id": "0ba8c5cc-2e35-43ca-bfd5-27a13b020426",
   "metadata": {},
   "outputs": [
    {
     "data": {
      "text/plain": [
       "Unnamed: 0.1           0\n",
       "Unnamed: 0_x           0\n",
       "index_x                0\n",
       "Age                    0\n",
       "PlanId                 0\n",
       "index_y                0\n",
       "StandardComponentId    0\n",
       "PlanType               0\n",
       "MetalLevel             0\n",
       "Unnamed: 0_y           0\n",
       "BenefitName            0\n",
       "CopayInnTier1          0\n",
       "Copayment              0\n",
       "Description            0\n",
       "Mean_Copayment         0\n",
       "dtype: int64"
      ]
     },
     "execution_count": 39,
     "metadata": {},
     "output_type": "execute_result"
    }
   ],
   "source": [
    "# Step3: Fill 0 value replaced with NaN value\n",
    "df_filled = merged_df.fillna(0)\n",
    "\n",
    "# Check NaN value sum\n",
    "df_filled.isnull().sum()"
   ]
  },
  {
   "cell_type": "code",
   "execution_count": 40,
   "id": "2b766edd-0aed-49b8-b4be-1e6810d80eea",
   "metadata": {},
   "outputs": [
    {
     "name": "stdout",
     "output_type": "stream",
     "text": [
      "<class 'pandas.core.frame.DataFrame'>\n",
      "RangeIndex: 6000 entries, 0 to 5999\n",
      "Data columns (total 15 columns):\n",
      " #   Column               Non-Null Count  Dtype  \n",
      "---  ------               --------------  -----  \n",
      " 0   Unnamed: 0.1         6000 non-null   int64  \n",
      " 1   Unnamed: 0_x         6000 non-null   int64  \n",
      " 2   index_x              6000 non-null   int64  \n",
      " 3   Age                  6000 non-null   int64  \n",
      " 4   PlanId               6000 non-null   object \n",
      " 5   index_y              6000 non-null   int64  \n",
      " 6   StandardComponentId  6000 non-null   object \n",
      " 7   PlanType             6000 non-null   object \n",
      " 8   MetalLevel           6000 non-null   object \n",
      " 9   Unnamed: 0_y         6000 non-null   float64\n",
      " 10  BenefitName          6000 non-null   object \n",
      " 11  CopayInnTier1        6000 non-null   object \n",
      " 12  Copayment            6000 non-null   float64\n",
      " 13  Description          6000 non-null   object \n",
      " 14  Mean_Copayment       6000 non-null   float64\n",
      "dtypes: float64(3), int64(5), object(7)\n",
      "memory usage: 703.3+ KB\n"
     ]
    }
   ],
   "source": [
    "# display all columns, Non-Null Count and Dtype\n",
    "df_filled.info()"
   ]
  },
  {
   "cell_type": "code",
   "execution_count": 41,
   "id": "d437e364-d14f-40d7-a3ab-e12be6b5afd2",
   "metadata": {},
   "outputs": [
    {
     "data": {
      "text/html": [
       "<div>\n",
       "<style scoped>\n",
       "    .dataframe tbody tr th:only-of-type {\n",
       "        vertical-align: middle;\n",
       "    }\n",
       "\n",
       "    .dataframe tbody tr th {\n",
       "        vertical-align: top;\n",
       "    }\n",
       "\n",
       "    .dataframe thead th {\n",
       "        text-align: right;\n",
       "    }\n",
       "</style>\n",
       "<table border=\"1\" class=\"dataframe\">\n",
       "  <thead>\n",
       "    <tr style=\"text-align: right;\">\n",
       "      <th></th>\n",
       "      <th>Unnamed: 0.1</th>\n",
       "      <th>Unnamed: 0_x</th>\n",
       "      <th>index_x</th>\n",
       "      <th>Age</th>\n",
       "      <th>PlanId</th>\n",
       "      <th>index_y</th>\n",
       "      <th>StandardComponentId</th>\n",
       "      <th>PlanType</th>\n",
       "      <th>MetalLevel</th>\n",
       "      <th>Unnamed: 0_y</th>\n",
       "      <th>BenefitName</th>\n",
       "      <th>CopayInnTier1</th>\n",
       "      <th>Copayment</th>\n",
       "      <th>Description</th>\n",
       "      <th>Mean_Copayment</th>\n",
       "    </tr>\n",
       "  </thead>\n",
       "  <tbody>\n",
       "    <tr>\n",
       "      <th>0</th>\n",
       "      <td>0</td>\n",
       "      <td>0</td>\n",
       "      <td>2277385</td>\n",
       "      <td>20</td>\n",
       "      <td>40540TX0080003</td>\n",
       "      <td>8849</td>\n",
       "      <td>40540TX0080003</td>\n",
       "      <td>PPO</td>\n",
       "      <td>High</td>\n",
       "      <td>265794.0</td>\n",
       "      <td>Routine Dental Services (Adult)</td>\n",
       "      <td>No Charge</td>\n",
       "      <td>0.0</td>\n",
       "      <td>No Charge</td>\n",
       "      <td>0.000000</td>\n",
       "    </tr>\n",
       "    <tr>\n",
       "      <th>1</th>\n",
       "      <td>1</td>\n",
       "      <td>1</td>\n",
       "      <td>2686872</td>\n",
       "      <td>20</td>\n",
       "      <td>18973IA0210004</td>\n",
       "      <td>12083</td>\n",
       "      <td>18973IA0210004</td>\n",
       "      <td>POS</td>\n",
       "      <td>Catastrophic</td>\n",
       "      <td>370605.0</td>\n",
       "      <td>Specialist Visit</td>\n",
       "      <td>No Charge</td>\n",
       "      <td>0.0</td>\n",
       "      <td>No Charge</td>\n",
       "      <td>0.000000</td>\n",
       "    </tr>\n",
       "    <tr>\n",
       "      <th>2</th>\n",
       "      <td>2</td>\n",
       "      <td>2</td>\n",
       "      <td>3723250</td>\n",
       "      <td>20</td>\n",
       "      <td>88380VA0720012</td>\n",
       "      <td>18393</td>\n",
       "      <td>88380VA0720012</td>\n",
       "      <td>HMO</td>\n",
       "      <td>Catastrophic</td>\n",
       "      <td>580829.0</td>\n",
       "      <td>Urgent Care Centers or Facilities</td>\n",
       "      <td>No Charge</td>\n",
       "      <td>0.0</td>\n",
       "      <td>No Charge</td>\n",
       "      <td>0.000000</td>\n",
       "    </tr>\n",
       "    <tr>\n",
       "      <th>3</th>\n",
       "      <td>3</td>\n",
       "      <td>3</td>\n",
       "      <td>3555416</td>\n",
       "      <td>20</td>\n",
       "      <td>58255OH0200001</td>\n",
       "      <td>16701</td>\n",
       "      <td>58255OH0200001</td>\n",
       "      <td>PPO</td>\n",
       "      <td>High</td>\n",
       "      <td>523636.0</td>\n",
       "      <td>Dental Check-Up for Children</td>\n",
       "      <td>No Charge</td>\n",
       "      <td>0.0</td>\n",
       "      <td>No Charge</td>\n",
       "      <td>0.000000</td>\n",
       "    </tr>\n",
       "    <tr>\n",
       "      <th>4</th>\n",
       "      <td>4</td>\n",
       "      <td>4</td>\n",
       "      <td>3527172</td>\n",
       "      <td>20</td>\n",
       "      <td>52664OH1510013</td>\n",
       "      <td>16425</td>\n",
       "      <td>52664OH1510013</td>\n",
       "      <td>PPO</td>\n",
       "      <td>Silver</td>\n",
       "      <td>522863.0</td>\n",
       "      <td>Home Health Care Services</td>\n",
       "      <td>No Charge</td>\n",
       "      <td>0.0</td>\n",
       "      <td>No Charge</td>\n",
       "      <td>7.094017</td>\n",
       "    </tr>\n",
       "  </tbody>\n",
       "</table>\n",
       "</div>"
      ],
      "text/plain": [
       "   Unnamed: 0.1  Unnamed: 0_x  index_x  Age          PlanId  index_y  \\\n",
       "0             0             0  2277385   20  40540TX0080003     8849   \n",
       "1             1             1  2686872   20  18973IA0210004    12083   \n",
       "2             2             2  3723250   20  88380VA0720012    18393   \n",
       "3             3             3  3555416   20  58255OH0200001    16701   \n",
       "4             4             4  3527172   20  52664OH1510013    16425   \n",
       "\n",
       "  StandardComponentId PlanType    MetalLevel  Unnamed: 0_y  \\\n",
       "0      40540TX0080003      PPO          High      265794.0   \n",
       "1      18973IA0210004      POS  Catastrophic      370605.0   \n",
       "2      88380VA0720012      HMO  Catastrophic      580829.0   \n",
       "3      58255OH0200001      PPO          High      523636.0   \n",
       "4      52664OH1510013      PPO        Silver      522863.0   \n",
       "\n",
       "                         BenefitName CopayInnTier1  Copayment Description  \\\n",
       "0    Routine Dental Services (Adult)     No Charge        0.0   No Charge   \n",
       "1                   Specialist Visit     No Charge        0.0   No Charge   \n",
       "2  Urgent Care Centers or Facilities     No Charge        0.0   No Charge   \n",
       "3       Dental Check-Up for Children     No Charge        0.0   No Charge   \n",
       "4          Home Health Care Services     No Charge        0.0   No Charge   \n",
       "\n",
       "   Mean_Copayment  \n",
       "0        0.000000  \n",
       "1        0.000000  \n",
       "2        0.000000  \n",
       "3        0.000000  \n",
       "4        7.094017  "
      ]
     },
     "execution_count": 41,
     "metadata": {},
     "output_type": "execute_result"
    }
   ],
   "source": [
    "# display first 5 rows\n",
    "df_filled.head()"
   ]
  },
  {
   "cell_type": "code",
   "execution_count": 42,
   "id": "7eb8ba24-2697-4b07-802d-dad2eeaa7fc7",
   "metadata": {},
   "outputs": [],
   "source": [
    "# Step4: Drop unnecessary columns\n",
    "df_merge = df_filled.drop(columns=['Unnamed: 0_x', 'Unnamed: 0.1', 'Unnamed: 0_y', 'index_x', 'index_y'])"
   ]
  },
  {
   "cell_type": "code",
   "execution_count": 43,
   "id": "d1e7b3d1-6dc9-48bc-a6d5-c505fd13a06d",
   "metadata": {},
   "outputs": [
    {
     "data": {
      "text/html": [
       "<div>\n",
       "<style scoped>\n",
       "    .dataframe tbody tr th:only-of-type {\n",
       "        vertical-align: middle;\n",
       "    }\n",
       "\n",
       "    .dataframe tbody tr th {\n",
       "        vertical-align: top;\n",
       "    }\n",
       "\n",
       "    .dataframe thead th {\n",
       "        text-align: right;\n",
       "    }\n",
       "</style>\n",
       "<table border=\"1\" class=\"dataframe\">\n",
       "  <thead>\n",
       "    <tr style=\"text-align: right;\">\n",
       "      <th></th>\n",
       "      <th>Age</th>\n",
       "      <th>PlanId</th>\n",
       "      <th>StandardComponentId</th>\n",
       "      <th>PlanType</th>\n",
       "      <th>MetalLevel</th>\n",
       "      <th>BenefitName</th>\n",
       "      <th>CopayInnTier1</th>\n",
       "      <th>Copayment</th>\n",
       "      <th>Description</th>\n",
       "      <th>Mean_Copayment</th>\n",
       "    </tr>\n",
       "  </thead>\n",
       "  <tbody>\n",
       "    <tr>\n",
       "      <th>0</th>\n",
       "      <td>20</td>\n",
       "      <td>40540TX0080003</td>\n",
       "      <td>40540TX0080003</td>\n",
       "      <td>PPO</td>\n",
       "      <td>High</td>\n",
       "      <td>Routine Dental Services (Adult)</td>\n",
       "      <td>No Charge</td>\n",
       "      <td>0.0</td>\n",
       "      <td>No Charge</td>\n",
       "      <td>0.000000</td>\n",
       "    </tr>\n",
       "    <tr>\n",
       "      <th>1</th>\n",
       "      <td>20</td>\n",
       "      <td>18973IA0210004</td>\n",
       "      <td>18973IA0210004</td>\n",
       "      <td>POS</td>\n",
       "      <td>Catastrophic</td>\n",
       "      <td>Specialist Visit</td>\n",
       "      <td>No Charge</td>\n",
       "      <td>0.0</td>\n",
       "      <td>No Charge</td>\n",
       "      <td>0.000000</td>\n",
       "    </tr>\n",
       "    <tr>\n",
       "      <th>2</th>\n",
       "      <td>20</td>\n",
       "      <td>88380VA0720012</td>\n",
       "      <td>88380VA0720012</td>\n",
       "      <td>HMO</td>\n",
       "      <td>Catastrophic</td>\n",
       "      <td>Urgent Care Centers or Facilities</td>\n",
       "      <td>No Charge</td>\n",
       "      <td>0.0</td>\n",
       "      <td>No Charge</td>\n",
       "      <td>0.000000</td>\n",
       "    </tr>\n",
       "    <tr>\n",
       "      <th>3</th>\n",
       "      <td>20</td>\n",
       "      <td>58255OH0200001</td>\n",
       "      <td>58255OH0200001</td>\n",
       "      <td>PPO</td>\n",
       "      <td>High</td>\n",
       "      <td>Dental Check-Up for Children</td>\n",
       "      <td>No Charge</td>\n",
       "      <td>0.0</td>\n",
       "      <td>No Charge</td>\n",
       "      <td>0.000000</td>\n",
       "    </tr>\n",
       "    <tr>\n",
       "      <th>4</th>\n",
       "      <td>20</td>\n",
       "      <td>52664OH1510013</td>\n",
       "      <td>52664OH1510013</td>\n",
       "      <td>PPO</td>\n",
       "      <td>Silver</td>\n",
       "      <td>Home Health Care Services</td>\n",
       "      <td>No Charge</td>\n",
       "      <td>0.0</td>\n",
       "      <td>No Charge</td>\n",
       "      <td>7.094017</td>\n",
       "    </tr>\n",
       "  </tbody>\n",
       "</table>\n",
       "</div>"
      ],
      "text/plain": [
       "   Age          PlanId StandardComponentId PlanType    MetalLevel  \\\n",
       "0   20  40540TX0080003      40540TX0080003      PPO          High   \n",
       "1   20  18973IA0210004      18973IA0210004      POS  Catastrophic   \n",
       "2   20  88380VA0720012      88380VA0720012      HMO  Catastrophic   \n",
       "3   20  58255OH0200001      58255OH0200001      PPO          High   \n",
       "4   20  52664OH1510013      52664OH1510013      PPO        Silver   \n",
       "\n",
       "                         BenefitName CopayInnTier1  Copayment Description  \\\n",
       "0    Routine Dental Services (Adult)     No Charge        0.0   No Charge   \n",
       "1                   Specialist Visit     No Charge        0.0   No Charge   \n",
       "2  Urgent Care Centers or Facilities     No Charge        0.0   No Charge   \n",
       "3       Dental Check-Up for Children     No Charge        0.0   No Charge   \n",
       "4          Home Health Care Services     No Charge        0.0   No Charge   \n",
       "\n",
       "   Mean_Copayment  \n",
       "0        0.000000  \n",
       "1        0.000000  \n",
       "2        0.000000  \n",
       "3        0.000000  \n",
       "4        7.094017  "
      ]
     },
     "execution_count": 43,
     "metadata": {},
     "output_type": "execute_result"
    }
   ],
   "source": [
    "# display first 5 rows\n",
    "df_merge.head()"
   ]
  },
  {
   "cell_type": "code",
   "execution_count": 44,
   "id": "af79bc8e-28d1-4055-b719-18a786dc0ae6",
   "metadata": {},
   "outputs": [
    {
     "name": "stdout",
     "output_type": "stream",
     "text": [
      "<class 'pandas.core.frame.DataFrame'>\n",
      "RangeIndex: 6000 entries, 0 to 5999\n",
      "Data columns (total 10 columns):\n",
      " #   Column               Non-Null Count  Dtype  \n",
      "---  ------               --------------  -----  \n",
      " 0   Age                  6000 non-null   int64  \n",
      " 1   PlanId               6000 non-null   object \n",
      " 2   StandardComponentId  6000 non-null   object \n",
      " 3   PlanType             6000 non-null   object \n",
      " 4   MetalLevel           6000 non-null   object \n",
      " 5   BenefitName          6000 non-null   object \n",
      " 6   CopayInnTier1        6000 non-null   object \n",
      " 7   Copayment            6000 non-null   float64\n",
      " 8   Description          6000 non-null   object \n",
      " 9   Mean_Copayment       6000 non-null   float64\n",
      "dtypes: float64(2), int64(1), object(7)\n",
      "memory usage: 468.9+ KB\n"
     ]
    }
   ],
   "source": [
    "# display all columns, Non-Null Count and Dtype\n",
    "df_merge.info()"
   ]
  },
  {
   "cell_type": "markdown",
   "id": "93c4955e-f9e6-494a-8f60-5ec5e7ee8fad",
   "metadata": {},
   "source": [
    "### 3. Select Only Column that use to analyze\n",
    "1. Select only 'AgeGroup', 'Age', 'PlanType' ,and 'Copayment' columns\n",
    "2. Create CSV file"
   ]
  },
  {
   "cell_type": "code",
   "execution_count": 45,
   "id": "73617051-2010-45b7-8695-a6c98e2e4191",
   "metadata": {},
   "outputs": [
    {
     "data": {
      "text/html": [
       "<div>\n",
       "<style scoped>\n",
       "    .dataframe tbody tr th:only-of-type {\n",
       "        vertical-align: middle;\n",
       "    }\n",
       "\n",
       "    .dataframe tbody tr th {\n",
       "        vertical-align: top;\n",
       "    }\n",
       "\n",
       "    .dataframe thead th {\n",
       "        text-align: right;\n",
       "    }\n",
       "</style>\n",
       "<table border=\"1\" class=\"dataframe\">\n",
       "  <thead>\n",
       "    <tr style=\"text-align: right;\">\n",
       "      <th></th>\n",
       "      <th>StandardComponentId</th>\n",
       "      <th>Age</th>\n",
       "      <th>PlanType</th>\n",
       "      <th>Copayment</th>\n",
       "    </tr>\n",
       "  </thead>\n",
       "  <tbody>\n",
       "    <tr>\n",
       "      <th>0</th>\n",
       "      <td>40540TX0080003</td>\n",
       "      <td>20</td>\n",
       "      <td>PPO</td>\n",
       "      <td>0.0</td>\n",
       "    </tr>\n",
       "    <tr>\n",
       "      <th>1</th>\n",
       "      <td>18973IA0210004</td>\n",
       "      <td>20</td>\n",
       "      <td>POS</td>\n",
       "      <td>0.0</td>\n",
       "    </tr>\n",
       "    <tr>\n",
       "      <th>2</th>\n",
       "      <td>88380VA0720012</td>\n",
       "      <td>20</td>\n",
       "      <td>HMO</td>\n",
       "      <td>0.0</td>\n",
       "    </tr>\n",
       "    <tr>\n",
       "      <th>3</th>\n",
       "      <td>58255OH0200001</td>\n",
       "      <td>20</td>\n",
       "      <td>PPO</td>\n",
       "      <td>0.0</td>\n",
       "    </tr>\n",
       "    <tr>\n",
       "      <th>4</th>\n",
       "      <td>52664OH1510013</td>\n",
       "      <td>20</td>\n",
       "      <td>PPO</td>\n",
       "      <td>0.0</td>\n",
       "    </tr>\n",
       "  </tbody>\n",
       "</table>\n",
       "</div>"
      ],
      "text/plain": [
       "  StandardComponentId  Age PlanType  Copayment\n",
       "0      40540TX0080003   20      PPO        0.0\n",
       "1      18973IA0210004   20      POS        0.0\n",
       "2      88380VA0720012   20      HMO        0.0\n",
       "3      58255OH0200001   20      PPO        0.0\n",
       "4      52664OH1510013   20      PPO        0.0"
      ]
     },
     "execution_count": 45,
     "metadata": {},
     "output_type": "execute_result"
    }
   ],
   "source": [
    "# Select only AgeGroup, MetalLevel ,and Copayment columns\n",
    "df_final_clened = df_merge[['StandardComponentId', 'Age', 'PlanType','Copayment']].reset_index(drop=True)\n",
    "df_final_clened.head()"
   ]
  },
  {
   "cell_type": "code",
   "execution_count": 46,
   "id": "b75c296e-88ba-4971-a2cb-fae9aafae1ac",
   "metadata": {},
   "outputs": [
    {
     "name": "stdout",
     "output_type": "stream",
     "text": [
      "<class 'pandas.core.frame.DataFrame'>\n",
      "RangeIndex: 6000 entries, 0 to 5999\n",
      "Data columns (total 4 columns):\n",
      " #   Column               Non-Null Count  Dtype  \n",
      "---  ------               --------------  -----  \n",
      " 0   StandardComponentId  6000 non-null   object \n",
      " 1   Age                  6000 non-null   int64  \n",
      " 2   PlanType             6000 non-null   object \n",
      " 3   Copayment            6000 non-null   float64\n",
      "dtypes: float64(1), int64(1), object(2)\n",
      "memory usage: 187.6+ KB\n"
     ]
    }
   ],
   "source": [
    "# display all columns, Non-Null Count and Dtype\n",
    "df_final_clened.info()"
   ]
  },
  {
   "cell_type": "code",
   "execution_count": 47,
   "id": "116f067b-f576-4af3-8550-755f15015c6f",
   "metadata": {},
   "outputs": [],
   "source": [
    "#create csv file merge all value that use analyze is complete\n",
    "df_final_clened.to_csv('cleaned.csv')"
   ]
  },
  {
   "cell_type": "code",
   "execution_count": null,
   "id": "b9be51ef-8526-4e72-ba0f-83c33f5037e5",
   "metadata": {},
   "outputs": [],
   "source": []
  }
 ],
 "metadata": {
  "kernelspec": {
   "display_name": "Python 3 (ipykernel)",
   "language": "python",
   "name": "python3"
  },
  "language_info": {
   "codemirror_mode": {
    "name": "ipython",
    "version": 3
   },
   "file_extension": ".py",
   "mimetype": "text/x-python",
   "name": "python",
   "nbconvert_exporter": "python",
   "pygments_lexer": "ipython3",
   "version": "3.12.6"
  }
 },
 "nbformat": 4,
 "nbformat_minor": 5
}
