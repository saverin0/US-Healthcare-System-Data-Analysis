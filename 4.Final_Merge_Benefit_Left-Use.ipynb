{
 "cells": [
  {
   "cell_type": "markdown",
   "id": "8c5af003-4650-4fb6-bdf9-0fc86c4d8be1",
   "metadata": {},
   "source": [
    "## Overview\n",
    "Merge data between sample population data of 6000 records, Plantype and MatalLevel in PlanAttributes, Benefitname and Copayment in BenefitCostSharing to combine into one data for easy analysis is [AgeGroup, PlanType, Copayment]"
   ]
  },
  {
   "cell_type": "markdown",
   "id": "e433a88f-5495-4ea7-95df-ef255d01afac",
   "metadata": {},
   "source": [
    "### Objectives\n",
    "1. Loading and inspecting dataset\n",
    "2. Merge sample population 6000 records, PlanType with Copayment\n",
    "3. Select Only Column that use to analyze"
   ]
  },
  {
   "cell_type": "markdown",
   "id": "d189fbef-144c-4d2e-af3c-d69441e9cf1c",
   "metadata": {},
   "source": [
    "### 1. Loading and inspecting dataset\n",
    "#### import library\n",
    "1. pandas that it allows you to create, manipulate, and analyze datasets efficiently.\n",
    "2. numpy that it provides support for arrays, matrices, and various mathematical functions.\n",
    "3. seaborn that it provides high-level functions to create attractive and informative plots.\n",
    "4. matplotlib is a foundational library for creating static, interactive, and animated visualizations."
   ]
  },
  {
   "cell_type": "code",
   "execution_count": 28,
   "id": "98196714-946f-4695-98dc-98bad83ecf1f",
   "metadata": {},
   "outputs": [],
   "source": [
    "import pandas as pd\n",
    "import numpy as np\n",
    "import seaborn as sns\n",
    "import matplotlib.pyplot as plt"
   ]
  },
  {
   "cell_type": "code",
   "execution_count": 29,
   "id": "9b8f0d95-69e4-4f4f-be15-5a309040cf26",
   "metadata": {},
   "outputs": [
    {
     "name": "stdout",
     "output_type": "stream",
     "text": [
      "<class 'pandas.core.frame.DataFrame'>\n",
      "RangeIndex: 6632 entries, 0 to 6631\n",
      "Data columns (total 7 columns):\n",
      " #   Column               Non-Null Count  Dtype \n",
      "---  ------               --------------  ----- \n",
      " 0   Unnamed: 0           6632 non-null   int64 \n",
      " 1   StandardComponentId  6632 non-null   object\n",
      " 2   BenefitName          6632 non-null   object\n",
      " 3   CopayInnTier1        6632 non-null   object\n",
      " 4   Copay                6632 non-null   int64 \n",
      " 5   Description          6632 non-null   object\n",
      " 6   Copayment            6632 non-null   int64 \n",
      "dtypes: int64(3), object(4)\n",
      "memory usage: 362.8+ KB\n"
     ]
    },
    {
     "data": {
      "text/plain": [
       "Unnamed: 0             0\n",
       "StandardComponentId    0\n",
       "BenefitName            0\n",
       "CopayInnTier1          0\n",
       "Copay                  0\n",
       "Description            0\n",
       "Copayment              0\n",
       "dtype: int64"
      ]
     },
     "execution_count": 29,
     "metadata": {},
     "output_type": "execute_result"
    }
   ],
   "source": [
    "# Load the dataset Benefitcostsharing after cleaning from 3.BenefitCostSharing_clean_mean-Use.ipynb\n",
    "df_bm = pd.read_csv(\"clean_benefitcostsharing_mean_no_duplicates.csv\",low_memory=False)\n",
    "\n",
    "# display all columns, Non-Null Count and Dtype\n",
    "df_bm.info()\n",
    "\n",
    "# Check NaN value sum\n",
    "df_bm.isna().sum()"
   ]
  },
  {
   "cell_type": "code",
   "execution_count": 30,
   "id": "45f63ee9-c60f-42bf-bddf-67776090ee7e",
   "metadata": {},
   "outputs": [
    {
     "name": "stdout",
     "output_type": "stream",
     "text": [
      "<class 'pandas.core.frame.DataFrame'>\n",
      "RangeIndex: 6000 entries, 0 to 5999\n",
      "Data columns (total 8 columns):\n",
      " #   Column               Non-Null Count  Dtype \n",
      "---  ------               --------------  ----- \n",
      " 0   Unnamed: 0.1         6000 non-null   int64 \n",
      " 1   Unnamed: 0           6000 non-null   int64 \n",
      " 2   Age                  6000 non-null   int64 \n",
      " 3   PlanId               6000 non-null   object\n",
      " 4   index                6000 non-null   int64 \n",
      " 5   StandardComponentId  6000 non-null   object\n",
      " 6   PlanType             6000 non-null   object\n",
      " 7   MetalLevel           6000 non-null   object\n",
      "dtypes: int64(4), object(4)\n",
      "memory usage: 375.1+ KB\n"
     ]
    },
    {
     "data": {
      "text/plain": [
       "Unnamed: 0.1           0\n",
       "Unnamed: 0             0\n",
       "Age                    0\n",
       "PlanId                 0\n",
       "index                  0\n",
       "StandardComponentId    0\n",
       "PlanType               0\n",
       "MetalLevel             0\n",
       "dtype: int64"
      ]
     },
     "execution_count": 30,
     "metadata": {},
     "output_type": "execute_result"
    }
   ],
   "source": [
    "# Load the dataset sample after merged plantype from 2.rateBinning_merged_PlanType_Metal-Use\n",
    "df_sm = pd.read_csv(\"sample_merged_plantype.csv\",low_memory=False)\n",
    "\n",
    "# display all columns, Non-Null Count and Dtype\n",
    "df_sm.info()\n",
    "\n",
    "# Check NaN value sum\n",
    "df_sm.isna().sum()"
   ]
  },
  {
   "cell_type": "markdown",
   "id": "2319d473-2af9-4d53-bacb-06427e0f4ed8",
   "metadata": {},
   "source": [
    "### 2. Merge sample population 6000 records, PlanType with Copayment\n",
    "1. Merge dr_sm = sample_merged_plantype.csv and \"StandardComponentId\" clean_benefitcostsharing_mean_no_duplicates.csv with \"StandardComponentId\"\n",
    "2. Check NaN value\n",
    "3. Fill 0 value replaced with NaN value\n",
    "4. Drop unnecessary columns"
   ]
  },
  {
   "cell_type": "code",
   "execution_count": 31,
   "id": "994764cc-6af7-4f32-bff8-fc8abf45a359",
   "metadata": {},
   "outputs": [
    {
     "name": "stdout",
     "output_type": "stream",
     "text": [
      "(6000, 14)\n"
     ]
    }
   ],
   "source": [
    "# Step1: Merge\n",
    "# Perform the merge\n",
    "merged_df = pd.merge(df_sm, df_bm, on='StandardComponentId', how='left')\n",
    "\n",
    "# Check the number of rows\n",
    "print(merged_df.shape)"
   ]
  },
  {
   "cell_type": "code",
   "execution_count": 32,
   "id": "b2ecb40f-7614-4059-bdce-935d829af116",
   "metadata": {},
   "outputs": [
    {
     "data": {
      "text/plain": [
       "Unnamed: 0.1           0\n",
       "Unnamed: 0_x           0\n",
       "Age                    0\n",
       "PlanId                 0\n",
       "index                  0\n",
       "StandardComponentId    0\n",
       "PlanType               0\n",
       "MetalLevel             0\n",
       "Unnamed: 0_y           0\n",
       "BenefitName            0\n",
       "CopayInnTier1          0\n",
       "Copay                  0\n",
       "Description            0\n",
       "Copayment              0\n",
       "dtype: int64"
      ]
     },
     "execution_count": 32,
     "metadata": {},
     "output_type": "execute_result"
    }
   ],
   "source": [
    "# Step2: Check NaN value sum\n",
    "merged_df.isnull().sum()"
   ]
  },
  {
   "cell_type": "code",
   "execution_count": 33,
   "id": "afa56de6-ecf3-47f0-8a98-7ffa4c57df8c",
   "metadata": {},
   "outputs": [
    {
     "name": "stdout",
     "output_type": "stream",
     "text": [
      "<class 'pandas.core.frame.DataFrame'>\n",
      "RangeIndex: 6000 entries, 0 to 5999\n",
      "Data columns (total 14 columns):\n",
      " #   Column               Non-Null Count  Dtype \n",
      "---  ------               --------------  ----- \n",
      " 0   Unnamed: 0.1         6000 non-null   int64 \n",
      " 1   Unnamed: 0_x         6000 non-null   int64 \n",
      " 2   Age                  6000 non-null   int64 \n",
      " 3   PlanId               6000 non-null   object\n",
      " 4   index                6000 non-null   int64 \n",
      " 5   StandardComponentId  6000 non-null   object\n",
      " 6   PlanType             6000 non-null   object\n",
      " 7   MetalLevel           6000 non-null   object\n",
      " 8   Unnamed: 0_y         6000 non-null   int64 \n",
      " 9   BenefitName          6000 non-null   object\n",
      " 10  CopayInnTier1        6000 non-null   object\n",
      " 11  Copay                6000 non-null   int64 \n",
      " 12  Description          6000 non-null   object\n",
      " 13  Copayment            6000 non-null   int64 \n",
      "dtypes: int64(7), object(7)\n",
      "memory usage: 656.4+ KB\n"
     ]
    }
   ],
   "source": [
    "merged_df.info()"
   ]
  },
  {
   "cell_type": "code",
   "execution_count": 34,
   "id": "d437e364-d14f-40d7-a3ab-e12be6b5afd2",
   "metadata": {},
   "outputs": [
    {
     "data": {
      "text/html": [
       "<div>\n",
       "<style scoped>\n",
       "    .dataframe tbody tr th:only-of-type {\n",
       "        vertical-align: middle;\n",
       "    }\n",
       "\n",
       "    .dataframe tbody tr th {\n",
       "        vertical-align: top;\n",
       "    }\n",
       "\n",
       "    .dataframe thead th {\n",
       "        text-align: right;\n",
       "    }\n",
       "</style>\n",
       "<table border=\"1\" class=\"dataframe\">\n",
       "  <thead>\n",
       "    <tr style=\"text-align: right;\">\n",
       "      <th></th>\n",
       "      <th>Unnamed: 0.1</th>\n",
       "      <th>Unnamed: 0_x</th>\n",
       "      <th>Age</th>\n",
       "      <th>PlanId</th>\n",
       "      <th>index</th>\n",
       "      <th>StandardComponentId</th>\n",
       "      <th>PlanType</th>\n",
       "      <th>MetalLevel</th>\n",
       "      <th>Unnamed: 0_y</th>\n",
       "      <th>BenefitName</th>\n",
       "      <th>CopayInnTier1</th>\n",
       "      <th>Copay</th>\n",
       "      <th>Description</th>\n",
       "      <th>Copayment</th>\n",
       "    </tr>\n",
       "  </thead>\n",
       "  <tbody>\n",
       "    <tr>\n",
       "      <th>0</th>\n",
       "      <td>0</td>\n",
       "      <td>0</td>\n",
       "      <td>20</td>\n",
       "      <td>40540TX0080003</td>\n",
       "      <td>8849</td>\n",
       "      <td>40540TX0080003</td>\n",
       "      <td>PPO</td>\n",
       "      <td>High</td>\n",
       "      <td>417137</td>\n",
       "      <td>Routine Dental Services (Adult)</td>\n",
       "      <td>No Charge</td>\n",
       "      <td>0</td>\n",
       "      <td>No Charge</td>\n",
       "      <td>0</td>\n",
       "    </tr>\n",
       "    <tr>\n",
       "      <th>1</th>\n",
       "      <td>1</td>\n",
       "      <td>1</td>\n",
       "      <td>20</td>\n",
       "      <td>18973IA0210004</td>\n",
       "      <td>12083</td>\n",
       "      <td>18973IA0210004</td>\n",
       "      <td>POS</td>\n",
       "      <td>Catastrophic</td>\n",
       "      <td>585322</td>\n",
       "      <td>Primary Care Visit to Treat an Injury or Illness</td>\n",
       "      <td>$20</td>\n",
       "      <td>20</td>\n",
       "      <td>$</td>\n",
       "      <td>2</td>\n",
       "    </tr>\n",
       "    <tr>\n",
       "      <th>2</th>\n",
       "      <td>2</td>\n",
       "      <td>2</td>\n",
       "      <td>20</td>\n",
       "      <td>88380VA0720012</td>\n",
       "      <td>18393</td>\n",
       "      <td>88380VA0720012</td>\n",
       "      <td>HMO</td>\n",
       "      <td>Catastrophic</td>\n",
       "      <td>885182</td>\n",
       "      <td>Urgent Care Centers or Facilities</td>\n",
       "      <td>No Charge</td>\n",
       "      <td>0</td>\n",
       "      <td>No Charge</td>\n",
       "      <td>2</td>\n",
       "    </tr>\n",
       "    <tr>\n",
       "      <th>3</th>\n",
       "      <td>3</td>\n",
       "      <td>3</td>\n",
       "      <td>20</td>\n",
       "      <td>58255OH0200001</td>\n",
       "      <td>16701</td>\n",
       "      <td>58255OH0200001</td>\n",
       "      <td>PPO</td>\n",
       "      <td>High</td>\n",
       "      <td>804014</td>\n",
       "      <td>Dental Check-Up for Children</td>\n",
       "      <td>No Charge</td>\n",
       "      <td>0</td>\n",
       "      <td>No Charge</td>\n",
       "      <td>0</td>\n",
       "    </tr>\n",
       "    <tr>\n",
       "      <th>4</th>\n",
       "      <td>4</td>\n",
       "      <td>4</td>\n",
       "      <td>20</td>\n",
       "      <td>52664OH1510013</td>\n",
       "      <td>16425</td>\n",
       "      <td>52664OH1510013</td>\n",
       "      <td>PPO</td>\n",
       "      <td>Silver</td>\n",
       "      <td>802884</td>\n",
       "      <td>Urgent Care Centers or Facilities</td>\n",
       "      <td>$50</td>\n",
       "      <td>50</td>\n",
       "      <td>$</td>\n",
       "      <td>11</td>\n",
       "    </tr>\n",
       "  </tbody>\n",
       "</table>\n",
       "</div>"
      ],
      "text/plain": [
       "   Unnamed: 0.1  Unnamed: 0_x  Age          PlanId  index StandardComponentId  \\\n",
       "0             0             0   20  40540TX0080003   8849      40540TX0080003   \n",
       "1             1             1   20  18973IA0210004  12083      18973IA0210004   \n",
       "2             2             2   20  88380VA0720012  18393      88380VA0720012   \n",
       "3             3             3   20  58255OH0200001  16701      58255OH0200001   \n",
       "4             4             4   20  52664OH1510013  16425      52664OH1510013   \n",
       "\n",
       "  PlanType    MetalLevel  Unnamed: 0_y  \\\n",
       "0      PPO          High        417137   \n",
       "1      POS  Catastrophic        585322   \n",
       "2      HMO  Catastrophic        885182   \n",
       "3      PPO          High        804014   \n",
       "4      PPO        Silver        802884   \n",
       "\n",
       "                                        BenefitName CopayInnTier1  Copay  \\\n",
       "0                   Routine Dental Services (Adult)     No Charge      0   \n",
       "1  Primary Care Visit to Treat an Injury or Illness           $20     20   \n",
       "2                 Urgent Care Centers or Facilities     No Charge      0   \n",
       "3                      Dental Check-Up for Children     No Charge      0   \n",
       "4                 Urgent Care Centers or Facilities           $50     50   \n",
       "\n",
       "  Description  Copayment  \n",
       "0   No Charge          0  \n",
       "1           $          2  \n",
       "2   No Charge          2  \n",
       "3   No Charge          0  \n",
       "4           $         11  "
      ]
     },
     "execution_count": 34,
     "metadata": {},
     "output_type": "execute_result"
    }
   ],
   "source": [
    "# display first 5 rows\n",
    "merged_df.head()"
   ]
  },
  {
   "cell_type": "code",
   "execution_count": 35,
   "id": "7eb8ba24-2697-4b07-802d-dad2eeaa7fc7",
   "metadata": {},
   "outputs": [],
   "source": [
    "# Step4: Drop unnecessary columns\n",
    "df_merge = merged_df.drop(columns=['Unnamed: 0.1', 'Unnamed: 0_x', 'index', 'Unnamed: 0_y'])"
   ]
  },
  {
   "cell_type": "code",
   "execution_count": 36,
   "id": "d1e7b3d1-6dc9-48bc-a6d5-c505fd13a06d",
   "metadata": {},
   "outputs": [
    {
     "data": {
      "text/html": [
       "<div>\n",
       "<style scoped>\n",
       "    .dataframe tbody tr th:only-of-type {\n",
       "        vertical-align: middle;\n",
       "    }\n",
       "\n",
       "    .dataframe tbody tr th {\n",
       "        vertical-align: top;\n",
       "    }\n",
       "\n",
       "    .dataframe thead th {\n",
       "        text-align: right;\n",
       "    }\n",
       "</style>\n",
       "<table border=\"1\" class=\"dataframe\">\n",
       "  <thead>\n",
       "    <tr style=\"text-align: right;\">\n",
       "      <th></th>\n",
       "      <th>Age</th>\n",
       "      <th>PlanId</th>\n",
       "      <th>StandardComponentId</th>\n",
       "      <th>PlanType</th>\n",
       "      <th>MetalLevel</th>\n",
       "      <th>BenefitName</th>\n",
       "      <th>CopayInnTier1</th>\n",
       "      <th>Copay</th>\n",
       "      <th>Description</th>\n",
       "      <th>Copayment</th>\n",
       "    </tr>\n",
       "  </thead>\n",
       "  <tbody>\n",
       "    <tr>\n",
       "      <th>0</th>\n",
       "      <td>20</td>\n",
       "      <td>40540TX0080003</td>\n",
       "      <td>40540TX0080003</td>\n",
       "      <td>PPO</td>\n",
       "      <td>High</td>\n",
       "      <td>Routine Dental Services (Adult)</td>\n",
       "      <td>No Charge</td>\n",
       "      <td>0</td>\n",
       "      <td>No Charge</td>\n",
       "      <td>0</td>\n",
       "    </tr>\n",
       "    <tr>\n",
       "      <th>1</th>\n",
       "      <td>20</td>\n",
       "      <td>18973IA0210004</td>\n",
       "      <td>18973IA0210004</td>\n",
       "      <td>POS</td>\n",
       "      <td>Catastrophic</td>\n",
       "      <td>Primary Care Visit to Treat an Injury or Illness</td>\n",
       "      <td>$20</td>\n",
       "      <td>20</td>\n",
       "      <td>$</td>\n",
       "      <td>2</td>\n",
       "    </tr>\n",
       "    <tr>\n",
       "      <th>2</th>\n",
       "      <td>20</td>\n",
       "      <td>88380VA0720012</td>\n",
       "      <td>88380VA0720012</td>\n",
       "      <td>HMO</td>\n",
       "      <td>Catastrophic</td>\n",
       "      <td>Urgent Care Centers or Facilities</td>\n",
       "      <td>No Charge</td>\n",
       "      <td>0</td>\n",
       "      <td>No Charge</td>\n",
       "      <td>2</td>\n",
       "    </tr>\n",
       "    <tr>\n",
       "      <th>3</th>\n",
       "      <td>20</td>\n",
       "      <td>58255OH0200001</td>\n",
       "      <td>58255OH0200001</td>\n",
       "      <td>PPO</td>\n",
       "      <td>High</td>\n",
       "      <td>Dental Check-Up for Children</td>\n",
       "      <td>No Charge</td>\n",
       "      <td>0</td>\n",
       "      <td>No Charge</td>\n",
       "      <td>0</td>\n",
       "    </tr>\n",
       "    <tr>\n",
       "      <th>4</th>\n",
       "      <td>20</td>\n",
       "      <td>52664OH1510013</td>\n",
       "      <td>52664OH1510013</td>\n",
       "      <td>PPO</td>\n",
       "      <td>Silver</td>\n",
       "      <td>Urgent Care Centers or Facilities</td>\n",
       "      <td>$50</td>\n",
       "      <td>50</td>\n",
       "      <td>$</td>\n",
       "      <td>11</td>\n",
       "    </tr>\n",
       "  </tbody>\n",
       "</table>\n",
       "</div>"
      ],
      "text/plain": [
       "   Age          PlanId StandardComponentId PlanType    MetalLevel  \\\n",
       "0   20  40540TX0080003      40540TX0080003      PPO          High   \n",
       "1   20  18973IA0210004      18973IA0210004      POS  Catastrophic   \n",
       "2   20  88380VA0720012      88380VA0720012      HMO  Catastrophic   \n",
       "3   20  58255OH0200001      58255OH0200001      PPO          High   \n",
       "4   20  52664OH1510013      52664OH1510013      PPO        Silver   \n",
       "\n",
       "                                        BenefitName CopayInnTier1  Copay  \\\n",
       "0                   Routine Dental Services (Adult)     No Charge      0   \n",
       "1  Primary Care Visit to Treat an Injury or Illness           $20     20   \n",
       "2                 Urgent Care Centers or Facilities     No Charge      0   \n",
       "3                      Dental Check-Up for Children     No Charge      0   \n",
       "4                 Urgent Care Centers or Facilities           $50     50   \n",
       "\n",
       "  Description  Copayment  \n",
       "0   No Charge          0  \n",
       "1           $          2  \n",
       "2   No Charge          2  \n",
       "3   No Charge          0  \n",
       "4           $         11  "
      ]
     },
     "execution_count": 36,
     "metadata": {},
     "output_type": "execute_result"
    }
   ],
   "source": [
    "# display first 5 rows\n",
    "df_merge.head()"
   ]
  },
  {
   "cell_type": "code",
   "execution_count": 37,
   "id": "af79bc8e-28d1-4055-b719-18a786dc0ae6",
   "metadata": {},
   "outputs": [
    {
     "name": "stdout",
     "output_type": "stream",
     "text": [
      "<class 'pandas.core.frame.DataFrame'>\n",
      "RangeIndex: 6000 entries, 0 to 5999\n",
      "Data columns (total 10 columns):\n",
      " #   Column               Non-Null Count  Dtype \n",
      "---  ------               --------------  ----- \n",
      " 0   Age                  6000 non-null   int64 \n",
      " 1   PlanId               6000 non-null   object\n",
      " 2   StandardComponentId  6000 non-null   object\n",
      " 3   PlanType             6000 non-null   object\n",
      " 4   MetalLevel           6000 non-null   object\n",
      " 5   BenefitName          6000 non-null   object\n",
      " 6   CopayInnTier1        6000 non-null   object\n",
      " 7   Copay                6000 non-null   int64 \n",
      " 8   Description          6000 non-null   object\n",
      " 9   Copayment            6000 non-null   int64 \n",
      "dtypes: int64(3), object(7)\n",
      "memory usage: 468.9+ KB\n"
     ]
    }
   ],
   "source": [
    "# display all columns, Non-Null Count and Dtype\n",
    "df_merge.info()"
   ]
  },
  {
   "cell_type": "markdown",
   "id": "93c4955e-f9e6-494a-8f60-5ec5e7ee8fad",
   "metadata": {},
   "source": [
    "### 3. Select Only Column that use to analyze\n",
    "1. Select only 'AgeGroup', 'Age', 'PlanType' ,and 'Copayment' columns\n",
    "2. Create CSV file"
   ]
  },
  {
   "cell_type": "code",
   "execution_count": 38,
   "id": "73617051-2010-45b7-8695-a6c98e2e4191",
   "metadata": {},
   "outputs": [
    {
     "data": {
      "text/html": [
       "<div>\n",
       "<style scoped>\n",
       "    .dataframe tbody tr th:only-of-type {\n",
       "        vertical-align: middle;\n",
       "    }\n",
       "\n",
       "    .dataframe tbody tr th {\n",
       "        vertical-align: top;\n",
       "    }\n",
       "\n",
       "    .dataframe thead th {\n",
       "        text-align: right;\n",
       "    }\n",
       "</style>\n",
       "<table border=\"1\" class=\"dataframe\">\n",
       "  <thead>\n",
       "    <tr style=\"text-align: right;\">\n",
       "      <th></th>\n",
       "      <th>StandardComponentId</th>\n",
       "      <th>Age</th>\n",
       "      <th>PlanType</th>\n",
       "      <th>Copayment</th>\n",
       "    </tr>\n",
       "  </thead>\n",
       "  <tbody>\n",
       "    <tr>\n",
       "      <th>0</th>\n",
       "      <td>40540TX0080003</td>\n",
       "      <td>20</td>\n",
       "      <td>PPO</td>\n",
       "      <td>0</td>\n",
       "    </tr>\n",
       "    <tr>\n",
       "      <th>1</th>\n",
       "      <td>18973IA0210004</td>\n",
       "      <td>20</td>\n",
       "      <td>POS</td>\n",
       "      <td>2</td>\n",
       "    </tr>\n",
       "    <tr>\n",
       "      <th>2</th>\n",
       "      <td>88380VA0720012</td>\n",
       "      <td>20</td>\n",
       "      <td>HMO</td>\n",
       "      <td>2</td>\n",
       "    </tr>\n",
       "    <tr>\n",
       "      <th>3</th>\n",
       "      <td>58255OH0200001</td>\n",
       "      <td>20</td>\n",
       "      <td>PPO</td>\n",
       "      <td>0</td>\n",
       "    </tr>\n",
       "    <tr>\n",
       "      <th>4</th>\n",
       "      <td>52664OH1510013</td>\n",
       "      <td>20</td>\n",
       "      <td>PPO</td>\n",
       "      <td>11</td>\n",
       "    </tr>\n",
       "  </tbody>\n",
       "</table>\n",
       "</div>"
      ],
      "text/plain": [
       "  StandardComponentId  Age PlanType  Copayment\n",
       "0      40540TX0080003   20      PPO          0\n",
       "1      18973IA0210004   20      POS          2\n",
       "2      88380VA0720012   20      HMO          2\n",
       "3      58255OH0200001   20      PPO          0\n",
       "4      52664OH1510013   20      PPO         11"
      ]
     },
     "execution_count": 38,
     "metadata": {},
     "output_type": "execute_result"
    }
   ],
   "source": [
    "# Select only AgeGroup, MetalLevel ,and Copayment columns\n",
    "df_final_clened = df_merge[['StandardComponentId', 'Age', 'PlanType','Copayment']].reset_index(drop=True)\n",
    "df_final_clened.head()"
   ]
  },
  {
   "cell_type": "code",
   "execution_count": 39,
   "id": "b75c296e-88ba-4971-a2cb-fae9aafae1ac",
   "metadata": {},
   "outputs": [
    {
     "name": "stdout",
     "output_type": "stream",
     "text": [
      "<class 'pandas.core.frame.DataFrame'>\n",
      "RangeIndex: 6000 entries, 0 to 5999\n",
      "Data columns (total 4 columns):\n",
      " #   Column               Non-Null Count  Dtype \n",
      "---  ------               --------------  ----- \n",
      " 0   StandardComponentId  6000 non-null   object\n",
      " 1   Age                  6000 non-null   int64 \n",
      " 2   PlanType             6000 non-null   object\n",
      " 3   Copayment            6000 non-null   int64 \n",
      "dtypes: int64(2), object(2)\n",
      "memory usage: 187.6+ KB\n"
     ]
    }
   ],
   "source": [
    "# display all columns, Non-Null Count and Dtype\n",
    "df_final_clened.info()"
   ]
  },
  {
   "cell_type": "code",
   "execution_count": 40,
   "id": "116f067b-f576-4af3-8550-755f15015c6f",
   "metadata": {},
   "outputs": [],
   "source": [
    "#create csv file merge all value that use analyze is complete\n",
    "df_final_clened.to_csv('cleaned.csv')"
   ]
  }
 ],
 "metadata": {
  "kernelspec": {
   "display_name": "Python 3 (ipykernel)",
   "language": "python",
   "name": "python3"
  },
  "language_info": {
   "codemirror_mode": {
    "name": "ipython",
    "version": 3
   },
   "file_extension": ".py",
   "mimetype": "text/x-python",
   "name": "python",
   "nbconvert_exporter": "python",
   "pygments_lexer": "ipython3",
   "version": "3.12.6"
  }
 },
 "nbformat": 4,
 "nbformat_minor": 5
}
