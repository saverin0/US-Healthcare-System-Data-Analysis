{
 "cells": [
  {
   "cell_type": "code",
   "execution_count": 1,
   "id": "a354473f-b702-48eb-8fac-ea7b2d0db61a",
   "metadata": {},
   "outputs": [],
   "source": [
    "import pandas as pd "
   ]
  },
  {
   "cell_type": "code",
   "execution_count": 3,
   "id": "9d8a24a5-ef03-4491-9611-d35450e23b47",
   "metadata": {},
   "outputs": [],
   "source": [
    "df = pd.read_csv(\"Rate.csv\")"
   ]
  },
  {
   "cell_type": "code",
   "execution_count": 4,
   "id": "59b2b7c0-923e-4e44-8d83-fef8b3a3d872",
   "metadata": {},
   "outputs": [
    {
     "data": {
      "text/html": [
       "<div>\n",
       "<style scoped>\n",
       "    .dataframe tbody tr th:only-of-type {\n",
       "        vertical-align: middle;\n",
       "    }\n",
       "\n",
       "    .dataframe tbody tr th {\n",
       "        vertical-align: top;\n",
       "    }\n",
       "\n",
       "    .dataframe thead th {\n",
       "        text-align: right;\n",
       "    }\n",
       "</style>\n",
       "<table border=\"1\" class=\"dataframe\">\n",
       "  <thead>\n",
       "    <tr style=\"text-align: right;\">\n",
       "      <th></th>\n",
       "      <th>BusinessYear</th>\n",
       "      <th>StateCode</th>\n",
       "      <th>IssuerId</th>\n",
       "      <th>SourceName</th>\n",
       "      <th>VersionNum</th>\n",
       "      <th>ImportDate</th>\n",
       "      <th>IssuerId2</th>\n",
       "      <th>FederalTIN</th>\n",
       "      <th>RateEffectiveDate</th>\n",
       "      <th>RateExpirationDate</th>\n",
       "      <th>...</th>\n",
       "      <th>IndividualRate</th>\n",
       "      <th>IndividualTobaccoRate</th>\n",
       "      <th>Couple</th>\n",
       "      <th>PrimarySubscriberAndOneDependent</th>\n",
       "      <th>PrimarySubscriberAndTwoDependents</th>\n",
       "      <th>PrimarySubscriberAndThreeOrMoreDependents</th>\n",
       "      <th>CoupleAndOneDependent</th>\n",
       "      <th>CoupleAndTwoDependents</th>\n",
       "      <th>CoupleAndThreeOrMoreDependents</th>\n",
       "      <th>RowNumber</th>\n",
       "    </tr>\n",
       "  </thead>\n",
       "  <tbody>\n",
       "    <tr>\n",
       "      <th>0</th>\n",
       "      <td>2014</td>\n",
       "      <td>AK</td>\n",
       "      <td>21989</td>\n",
       "      <td>HIOS</td>\n",
       "      <td>6</td>\n",
       "      <td>2014-03-19 07:06:49</td>\n",
       "      <td>21989</td>\n",
       "      <td>93-0438772</td>\n",
       "      <td>2014-01-01</td>\n",
       "      <td>2014-12-31</td>\n",
       "      <td>...</td>\n",
       "      <td>29.00</td>\n",
       "      <td>NaN</td>\n",
       "      <td>NaN</td>\n",
       "      <td>NaN</td>\n",
       "      <td>NaN</td>\n",
       "      <td>NaN</td>\n",
       "      <td>NaN</td>\n",
       "      <td>NaN</td>\n",
       "      <td>NaN</td>\n",
       "      <td>14</td>\n",
       "    </tr>\n",
       "    <tr>\n",
       "      <th>1</th>\n",
       "      <td>2014</td>\n",
       "      <td>AK</td>\n",
       "      <td>21989</td>\n",
       "      <td>HIOS</td>\n",
       "      <td>6</td>\n",
       "      <td>2014-03-19 07:06:49</td>\n",
       "      <td>21989</td>\n",
       "      <td>93-0438772</td>\n",
       "      <td>2014-01-01</td>\n",
       "      <td>2014-12-31</td>\n",
       "      <td>...</td>\n",
       "      <td>36.95</td>\n",
       "      <td>NaN</td>\n",
       "      <td>73.9</td>\n",
       "      <td>107.61</td>\n",
       "      <td>107.61</td>\n",
       "      <td>107.61</td>\n",
       "      <td>144.56</td>\n",
       "      <td>144.56</td>\n",
       "      <td>144.56</td>\n",
       "      <td>14</td>\n",
       "    </tr>\n",
       "    <tr>\n",
       "      <th>2</th>\n",
       "      <td>2014</td>\n",
       "      <td>AK</td>\n",
       "      <td>21989</td>\n",
       "      <td>HIOS</td>\n",
       "      <td>6</td>\n",
       "      <td>2014-03-19 07:06:49</td>\n",
       "      <td>21989</td>\n",
       "      <td>93-0438772</td>\n",
       "      <td>2014-01-01</td>\n",
       "      <td>2014-12-31</td>\n",
       "      <td>...</td>\n",
       "      <td>36.95</td>\n",
       "      <td>NaN</td>\n",
       "      <td>73.9</td>\n",
       "      <td>107.61</td>\n",
       "      <td>107.61</td>\n",
       "      <td>107.61</td>\n",
       "      <td>144.56</td>\n",
       "      <td>144.56</td>\n",
       "      <td>144.56</td>\n",
       "      <td>15</td>\n",
       "    </tr>\n",
       "    <tr>\n",
       "      <th>3</th>\n",
       "      <td>2014</td>\n",
       "      <td>AK</td>\n",
       "      <td>21989</td>\n",
       "      <td>HIOS</td>\n",
       "      <td>6</td>\n",
       "      <td>2014-03-19 07:06:49</td>\n",
       "      <td>21989</td>\n",
       "      <td>93-0438772</td>\n",
       "      <td>2014-01-01</td>\n",
       "      <td>2014-12-31</td>\n",
       "      <td>...</td>\n",
       "      <td>32.00</td>\n",
       "      <td>NaN</td>\n",
       "      <td>NaN</td>\n",
       "      <td>NaN</td>\n",
       "      <td>NaN</td>\n",
       "      <td>NaN</td>\n",
       "      <td>NaN</td>\n",
       "      <td>NaN</td>\n",
       "      <td>NaN</td>\n",
       "      <td>15</td>\n",
       "    </tr>\n",
       "    <tr>\n",
       "      <th>4</th>\n",
       "      <td>2014</td>\n",
       "      <td>AK</td>\n",
       "      <td>21989</td>\n",
       "      <td>HIOS</td>\n",
       "      <td>6</td>\n",
       "      <td>2014-03-19 07:06:49</td>\n",
       "      <td>21989</td>\n",
       "      <td>93-0438772</td>\n",
       "      <td>2014-01-01</td>\n",
       "      <td>2014-12-31</td>\n",
       "      <td>...</td>\n",
       "      <td>32.00</td>\n",
       "      <td>NaN</td>\n",
       "      <td>NaN</td>\n",
       "      <td>NaN</td>\n",
       "      <td>NaN</td>\n",
       "      <td>NaN</td>\n",
       "      <td>NaN</td>\n",
       "      <td>NaN</td>\n",
       "      <td>NaN</td>\n",
       "      <td>16</td>\n",
       "    </tr>\n",
       "    <tr>\n",
       "      <th>5</th>\n",
       "      <td>2014</td>\n",
       "      <td>AK</td>\n",
       "      <td>21989</td>\n",
       "      <td>HIOS</td>\n",
       "      <td>6</td>\n",
       "      <td>2014-03-19 07:06:49</td>\n",
       "      <td>21989</td>\n",
       "      <td>93-0438772</td>\n",
       "      <td>2014-01-01</td>\n",
       "      <td>2014-12-31</td>\n",
       "      <td>...</td>\n",
       "      <td>36.95</td>\n",
       "      <td>NaN</td>\n",
       "      <td>73.9</td>\n",
       "      <td>107.61</td>\n",
       "      <td>107.61</td>\n",
       "      <td>107.61</td>\n",
       "      <td>144.56</td>\n",
       "      <td>144.56</td>\n",
       "      <td>144.56</td>\n",
       "      <td>16</td>\n",
       "    </tr>\n",
       "    <tr>\n",
       "      <th>6</th>\n",
       "      <td>2014</td>\n",
       "      <td>AK</td>\n",
       "      <td>21989</td>\n",
       "      <td>HIOS</td>\n",
       "      <td>6</td>\n",
       "      <td>2014-03-19 07:06:49</td>\n",
       "      <td>21989</td>\n",
       "      <td>93-0438772</td>\n",
       "      <td>2014-01-01</td>\n",
       "      <td>2014-12-31</td>\n",
       "      <td>...</td>\n",
       "      <td>32.45</td>\n",
       "      <td>NaN</td>\n",
       "      <td>64.9</td>\n",
       "      <td>94.50</td>\n",
       "      <td>94.50</td>\n",
       "      <td>94.50</td>\n",
       "      <td>126.95</td>\n",
       "      <td>126.95</td>\n",
       "      <td>126.95</td>\n",
       "      <td>17</td>\n",
       "    </tr>\n",
       "    <tr>\n",
       "      <th>7</th>\n",
       "      <td>2014</td>\n",
       "      <td>AK</td>\n",
       "      <td>21989</td>\n",
       "      <td>HIOS</td>\n",
       "      <td>6</td>\n",
       "      <td>2014-03-19 07:06:49</td>\n",
       "      <td>21989</td>\n",
       "      <td>93-0438772</td>\n",
       "      <td>2014-01-01</td>\n",
       "      <td>2014-12-31</td>\n",
       "      <td>...</td>\n",
       "      <td>32.00</td>\n",
       "      <td>NaN</td>\n",
       "      <td>NaN</td>\n",
       "      <td>NaN</td>\n",
       "      <td>NaN</td>\n",
       "      <td>NaN</td>\n",
       "      <td>NaN</td>\n",
       "      <td>NaN</td>\n",
       "      <td>NaN</td>\n",
       "      <td>17</td>\n",
       "    </tr>\n",
       "    <tr>\n",
       "      <th>8</th>\n",
       "      <td>2014</td>\n",
       "      <td>AK</td>\n",
       "      <td>21989</td>\n",
       "      <td>HIOS</td>\n",
       "      <td>6</td>\n",
       "      <td>2014-03-19 07:06:49</td>\n",
       "      <td>21989</td>\n",
       "      <td>93-0438772</td>\n",
       "      <td>2014-01-01</td>\n",
       "      <td>2014-12-31</td>\n",
       "      <td>...</td>\n",
       "      <td>32.00</td>\n",
       "      <td>NaN</td>\n",
       "      <td>NaN</td>\n",
       "      <td>NaN</td>\n",
       "      <td>NaN</td>\n",
       "      <td>NaN</td>\n",
       "      <td>NaN</td>\n",
       "      <td>NaN</td>\n",
       "      <td>NaN</td>\n",
       "      <td>18</td>\n",
       "    </tr>\n",
       "    <tr>\n",
       "      <th>9</th>\n",
       "      <td>2014</td>\n",
       "      <td>AK</td>\n",
       "      <td>21989</td>\n",
       "      <td>HIOS</td>\n",
       "      <td>6</td>\n",
       "      <td>2014-03-19 07:06:49</td>\n",
       "      <td>21989</td>\n",
       "      <td>93-0438772</td>\n",
       "      <td>2014-01-01</td>\n",
       "      <td>2014-12-31</td>\n",
       "      <td>...</td>\n",
       "      <td>32.45</td>\n",
       "      <td>NaN</td>\n",
       "      <td>64.9</td>\n",
       "      <td>94.50</td>\n",
       "      <td>94.50</td>\n",
       "      <td>94.50</td>\n",
       "      <td>126.95</td>\n",
       "      <td>126.95</td>\n",
       "      <td>126.95</td>\n",
       "      <td>18</td>\n",
       "    </tr>\n",
       "  </tbody>\n",
       "</table>\n",
       "<p>10 rows × 24 columns</p>\n",
       "</div>"
      ],
      "text/plain": [
       "   BusinessYear StateCode  IssuerId SourceName  VersionNum  \\\n",
       "0          2014        AK     21989       HIOS           6   \n",
       "1          2014        AK     21989       HIOS           6   \n",
       "2          2014        AK     21989       HIOS           6   \n",
       "3          2014        AK     21989       HIOS           6   \n",
       "4          2014        AK     21989       HIOS           6   \n",
       "5          2014        AK     21989       HIOS           6   \n",
       "6          2014        AK     21989       HIOS           6   \n",
       "7          2014        AK     21989       HIOS           6   \n",
       "8          2014        AK     21989       HIOS           6   \n",
       "9          2014        AK     21989       HIOS           6   \n",
       "\n",
       "            ImportDate  IssuerId2  FederalTIN RateEffectiveDate  \\\n",
       "0  2014-03-19 07:06:49      21989  93-0438772        2014-01-01   \n",
       "1  2014-03-19 07:06:49      21989  93-0438772        2014-01-01   \n",
       "2  2014-03-19 07:06:49      21989  93-0438772        2014-01-01   \n",
       "3  2014-03-19 07:06:49      21989  93-0438772        2014-01-01   \n",
       "4  2014-03-19 07:06:49      21989  93-0438772        2014-01-01   \n",
       "5  2014-03-19 07:06:49      21989  93-0438772        2014-01-01   \n",
       "6  2014-03-19 07:06:49      21989  93-0438772        2014-01-01   \n",
       "7  2014-03-19 07:06:49      21989  93-0438772        2014-01-01   \n",
       "8  2014-03-19 07:06:49      21989  93-0438772        2014-01-01   \n",
       "9  2014-03-19 07:06:49      21989  93-0438772        2014-01-01   \n",
       "\n",
       "  RateExpirationDate  ... IndividualRate IndividualTobaccoRate Couple  \\\n",
       "0         2014-12-31  ...          29.00                   NaN    NaN   \n",
       "1         2014-12-31  ...          36.95                   NaN   73.9   \n",
       "2         2014-12-31  ...          36.95                   NaN   73.9   \n",
       "3         2014-12-31  ...          32.00                   NaN    NaN   \n",
       "4         2014-12-31  ...          32.00                   NaN    NaN   \n",
       "5         2014-12-31  ...          36.95                   NaN   73.9   \n",
       "6         2014-12-31  ...          32.45                   NaN   64.9   \n",
       "7         2014-12-31  ...          32.00                   NaN    NaN   \n",
       "8         2014-12-31  ...          32.00                   NaN    NaN   \n",
       "9         2014-12-31  ...          32.45                   NaN   64.9   \n",
       "\n",
       "  PrimarySubscriberAndOneDependent  PrimarySubscriberAndTwoDependents  \\\n",
       "0                              NaN                                NaN   \n",
       "1                           107.61                             107.61   \n",
       "2                           107.61                             107.61   \n",
       "3                              NaN                                NaN   \n",
       "4                              NaN                                NaN   \n",
       "5                           107.61                             107.61   \n",
       "6                            94.50                              94.50   \n",
       "7                              NaN                                NaN   \n",
       "8                              NaN                                NaN   \n",
       "9                            94.50                              94.50   \n",
       "\n",
       "   PrimarySubscriberAndThreeOrMoreDependents  CoupleAndOneDependent  \\\n",
       "0                                        NaN                    NaN   \n",
       "1                                     107.61                 144.56   \n",
       "2                                     107.61                 144.56   \n",
       "3                                        NaN                    NaN   \n",
       "4                                        NaN                    NaN   \n",
       "5                                     107.61                 144.56   \n",
       "6                                      94.50                 126.95   \n",
       "7                                        NaN                    NaN   \n",
       "8                                        NaN                    NaN   \n",
       "9                                      94.50                 126.95   \n",
       "\n",
       "   CoupleAndTwoDependents  CoupleAndThreeOrMoreDependents  RowNumber  \n",
       "0                     NaN                             NaN         14  \n",
       "1                  144.56                          144.56         14  \n",
       "2                  144.56                          144.56         15  \n",
       "3                     NaN                             NaN         15  \n",
       "4                     NaN                             NaN         16  \n",
       "5                  144.56                          144.56         16  \n",
       "6                  126.95                          126.95         17  \n",
       "7                     NaN                             NaN         17  \n",
       "8                     NaN                             NaN         18  \n",
       "9                  126.95                          126.95         18  \n",
       "\n",
       "[10 rows x 24 columns]"
      ]
     },
     "execution_count": 4,
     "metadata": {},
     "output_type": "execute_result"
    }
   ],
   "source": [
    "df.head(10)"
   ]
  },
  {
   "cell_type": "code",
   "execution_count": 7,
   "id": "9485c36d-ce80-42f3-84a9-f6bdfd12ae1d",
   "metadata": {},
   "outputs": [],
   "source": [
    "distinct_yrs = df[\"BusinessYear\"].unique()"
   ]
  },
  {
   "cell_type": "code",
   "execution_count": 9,
   "id": "98fe21a0-de1b-4ad6-b71e-25a0981e9379",
   "metadata": {},
   "outputs": [
    {
     "data": {
      "text/plain": [
       "array([2014, 2015, 2016], dtype=int64)"
      ]
     },
     "execution_count": 9,
     "metadata": {},
     "output_type": "execute_result"
    }
   ],
   "source": [
    "distinct_yrs"
   ]
  },
  {
   "cell_type": "code",
   "execution_count": 15,
   "id": "575a3308-c1f4-4092-8b82-280f1a9a2e07",
   "metadata": {},
   "outputs": [],
   "source": [
    "counts = df[\"BusinessYear\"].value_counts(dropna=False)"
   ]
  },
  {
   "cell_type": "code",
   "execution_count": 17,
   "id": "f20f2290-ddad-4279-ac4c-d7c3c37e3085",
   "metadata": {},
   "outputs": [
    {
     "data": {
      "text/plain": [
       "BusinessYear\n",
       "2015    4676092\n",
       "2016    4221965\n",
       "2014    3796388\n",
       "Name: count, dtype: int64"
      ]
     },
     "execution_count": 17,
     "metadata": {},
     "output_type": "execute_result"
    }
   ],
   "source": [
    "counts"
   ]
  },
  {
   "cell_type": "code",
   "execution_count": 27,
   "id": "c98c9168-8d8e-4e57-9401-1e4712652787",
   "metadata": {},
   "outputs": [],
   "source": [
    "missing = df[\"BusinessYear\"].isna().sum()"
   ]
  },
  {
   "cell_type": "code",
   "execution_count": 29,
   "id": "e96e24f3-fab7-4312-aef5-35b76b36fa62",
   "metadata": {},
   "outputs": [
    {
     "data": {
      "text/plain": [
       "0"
      ]
     },
     "execution_count": 29,
     "metadata": {},
     "output_type": "execute_result"
    }
   ],
   "source": [
    "missing"
   ]
  },
  {
   "cell_type": "code",
   "execution_count": 33,
   "id": "3505199a-0e9e-45a8-8eb7-de524e509fe7",
   "metadata": {},
   "outputs": [],
   "source": [
    "dp = df.duplicated().sum()"
   ]
  },
  {
   "cell_type": "code",
   "execution_count": 3,
   "id": "626ca2ca-7a15-4e9a-be49-b56dc955fb4f",
   "metadata": {},
   "outputs": [
    {
     "name": "stderr",
     "output_type": "stream",
     "text": [
      "C:\\Users\\abres\\AppData\\Local\\Temp\\ipykernel_18044\\1640756019.py:1: DtypeWarning: Columns (0,7,8,9,10,11,12,13,14,15,18,19,20,22,23,24,25,26,27,28,29,31,32,33,34,39,40,41,42,66,67,68,70,71,72,75,76,77,79,80,81,82,84,85,86,88,89,90,92,93,94,96,97,98,136,137,138,140,141,142,145,146,147,150,151,152,154,155,156,158,159,160,162,163,164,166,167,168) have mixed types. Specify dtype option on import or set low_memory=False.\n",
      "  df1 = pd.read_csv(\"PlanAttributes.csv\")\n"
     ]
    }
   ],
   "source": [
    "df1 = pd.read_csv(\"PlanAttributes.csv\")"
   ]
  },
  {
   "cell_type": "code",
   "execution_count": 13,
   "id": "6420cdb9-9eb0-4bc1-aa61-b14c6ee98858",
   "metadata": {},
   "outputs": [],
   "source": [
    "a1 = df1.head(10)"
   ]
  },
  {
   "cell_type": "code",
   "execution_count": 9,
   "id": "a43eb206-bb45-4a3f-90d8-309e71484a05",
   "metadata": {},
   "outputs": [],
   "source": [
    "clm = df1.columns"
   ]
  },
  {
   "cell_type": "code",
   "execution_count": 11,
   "id": "e42c1526-268e-4b22-92bd-5b7481f0a378",
   "metadata": {},
   "outputs": [
    {
     "name": "stdout",
     "output_type": "stream",
     "text": [
      "Index(['AVCalculatorOutputNumber',\n",
      "       'BeginPrimaryCareCostSharingAfterNumberOfVisits',\n",
      "       'BeginPrimaryCareDeductibleCoinsuranceAfterNumberOfCopays',\n",
      "       'BenefitPackageId', 'BusinessYear', 'CSRVariationType',\n",
      "       'ChildOnlyOffering', 'ChildOnlyPlanId', 'CompositeRatingOffered',\n",
      "       'DEHBCombInnOonFamilyMOOP',\n",
      "       ...\n",
      "       'TEHBOutOfNetFamilyMOOP', 'TEHBOutOfNetFamilyPerGroupMOOP',\n",
      "       'TEHBOutOfNetFamilyPerPersonMOOP', 'TEHBOutOfNetIndividualMOOP', 'TIN',\n",
      "       'URLForEnrollmentPayment', 'URLForSummaryofBenefitsCoverage',\n",
      "       'UniquePlanDesign', 'VersionNum', 'WellnessProgramOffered'],\n",
      "      dtype='object', length=176)\n"
     ]
    }
   ],
   "source": [
    "print(clm)"
   ]
  },
  {
   "cell_type": "code",
   "execution_count": 17,
   "id": "a9a7f33d-cc67-4ec2-a0a9-0ecb2a5af23d",
   "metadata": {},
   "outputs": [],
   "source": [
    "df2 = pd.read_csv(\"BenefitsCostSharing.csv\",low_memory=False)"
   ]
  },
  {
   "cell_type": "code",
   "execution_count": 29,
   "id": "2efd47c0-ceea-4ef1-8ff6-c120a7ea2a57",
   "metadata": {},
   "outputs": [
    {
     "data": {
      "text/plain": [
       "Index(['BenefitName', 'BusinessYear', 'CoinsInnTier1', 'CoinsInnTier2',\n",
       "       'CoinsOutofNet', 'CopayInnTier1', 'CopayInnTier2', 'CopayOutofNet',\n",
       "       'EHBVarReason', 'Exclusions', 'Explanation', 'ImportDate', 'IsCovered',\n",
       "       'IsEHB', 'IsExclFromInnMOOP', 'IsExclFromOonMOOP', 'IsStateMandate',\n",
       "       'IsSubjToDedTier1', 'IsSubjToDedTier2', 'IssuerId', 'IssuerId2',\n",
       "       'LimitQty', 'LimitUnit', 'MinimumStay', 'PlanId', 'QuantLimitOnSvc',\n",
       "       'RowNumber', 'SourceName', 'StandardComponentId', 'StateCode',\n",
       "       'StateCode2', 'VersionNum'],\n",
       "      dtype='object')"
      ]
     },
     "execution_count": 29,
     "metadata": {},
     "output_type": "execute_result"
    }
   ],
   "source": [
    "df2.columns"
   ]
  },
  {
   "cell_type": "code",
   "execution_count": 57,
   "id": "d812cef6-8472-4dc6-a452-f04a6c73c9de",
   "metadata": {},
   "outputs": [
    {
     "name": "stdout",
     "output_type": "stream",
     "text": [
      "Filtered DataFrame:\n",
      "         BusinessYear             PlanId   CopayInnTier1\n",
      "0                2014  21989AK0010001-00       No Charge\n",
      "1                2014  21989AK0010001-00       No Charge\n",
      "2                2014  21989AK0010001-00       No Charge\n",
      "3                2014  21989AK0010001-00       No Charge\n",
      "4                2014  21989AK0010001-00       No Charge\n",
      "...               ...                ...             ...\n",
      "5048403          2016  96480WV0110003-00  Not Applicable\n",
      "5048404          2016  96480WV0110003-00             NaN\n",
      "5048405          2016  96480WV0110003-00             NaN\n",
      "5048406          2016  96480WV0110003-00             NaN\n",
      "5048407          2016  96480WV0110003-00             NaN\n",
      "\n",
      "[5048408 rows x 3 columns]\n"
     ]
    }
   ],
   "source": [
    "# Keep only the specified columns\n",
    "columns_to_keep = ['BusinessYear', 'PlanId','CopayInnTier1']\n",
    "df_filtered = df2[columns_to_keep]\n",
    "\n",
    "print(\"Filtered DataFrame:\")\n",
    "print(df_filtered)"
   ]
  },
  {
   "cell_type": "code",
   "execution_count": 33,
   "id": "466340fd-8d19-43e0-a975-cec94f3f22ca",
   "metadata": {},
   "outputs": [],
   "source": [
    "unq_df_businessYear = df2['BusinessYear'].unique()"
   ]
  },
  {
   "cell_type": "code",
   "execution_count": 35,
   "id": "dee31094-b488-4c36-9dd5-1732c5010eb5",
   "metadata": {},
   "outputs": [
    {
     "data": {
      "text/plain": [
       "array([2014, 2015, 2016], dtype=int64)"
      ]
     },
     "execution_count": 35,
     "metadata": {},
     "output_type": "execute_result"
    }
   ],
   "source": [
    "unq_df_businessYear"
   ]
  },
  {
   "cell_type": "code",
   "execution_count": 43,
   "id": "c9138fcc-2839-4b58-ba72-45f61deef7a7",
   "metadata": {},
   "outputs": [],
   "source": [
    "unique_value_count_bs_yr = df2['BusinessYear'].value_counts()"
   ]
  },
  {
   "cell_type": "code",
   "execution_count": 45,
   "id": "af57c176-d3c9-40f6-b0df-e31a75ae0b15",
   "metadata": {},
   "outputs": [
    {
     "data": {
      "text/plain": [
       "BusinessYear\n",
       "2015    2079286\n",
       "2016    1804253\n",
       "2014    1164869\n",
       "Name: count, dtype: int64"
      ]
     },
     "execution_count": 45,
     "metadata": {},
     "output_type": "execute_result"
    }
   ],
   "source": [
    "unique_value_count_bs_yr"
   ]
  },
  {
   "cell_type": "code",
   "execution_count": 59,
   "id": "da817296-74fe-42d4-be4b-a1f56723c4b2",
   "metadata": {},
   "outputs": [
    {
     "name": "stdout",
     "output_type": "stream",
     "text": [
      "Filtered DataFrame:\n",
      "         BusinessYear             PlanId   CopayInnTier1\n",
      "0                2014  21989AK0010001-00       No Charge\n",
      "1                2014  21989AK0010001-00       No Charge\n",
      "2                2014  21989AK0010001-00       No Charge\n",
      "3                2014  21989AK0010001-00       No Charge\n",
      "4                2014  21989AK0010001-00       No Charge\n",
      "...               ...                ...             ...\n",
      "5048403          2016  96480WV0110003-00  Not Applicable\n",
      "5048404          2016  96480WV0110003-00             NaN\n",
      "5048405          2016  96480WV0110003-00             NaN\n",
      "5048406          2016  96480WV0110003-00             NaN\n",
      "5048407          2016  96480WV0110003-00             NaN\n",
      "\n",
      "[5048408 rows x 3 columns]\n"
     ]
    }
   ],
   "source": [
    "# Keep only the specified columns\n",
    "columns_to_keep = ['BusinessYear', 'PlanId','CopayInnTier1']\n",
    "df_filtered = df2[columns_to_keep]\n",
    "\n",
    "print(\"Filtered DataFrame:\")\n",
    "print(df_filtered)"
   ]
  },
  {
   "cell_type": "code",
   "execution_count": 63,
   "id": "06000a87-f0a4-4e59-a4c2-b2da21d25108",
   "metadata": {},
   "outputs": [
    {
     "name": "stdout",
     "output_type": "stream",
     "text": [
      "Filtered DataFrame:\n",
      "                             BenefitName  BusinessYear  \\\n",
      "0        Routine Dental Services (Adult)          2014   \n",
      "1           Dental Check-Up for Children          2014   \n",
      "2              Basic Dental Care - Child          2014   \n",
      "3                    Orthodontia - Child          2014   \n",
      "4              Major Dental Care - Child          2014   \n",
      "...                                  ...           ...   \n",
      "1164864        Major Dental Care - Child          2014   \n",
      "1164865        Basic Dental Care - Adult          2014   \n",
      "1164866              Orthodontia - Adult          2014   \n",
      "1164867        Major Dental Care - Adult          2014   \n",
      "1164868                Accidental Dental          2014   \n",
      "\n",
      "                            CoinsInnTier1 CoinsInnTier2 CoinsOutofNet  \\\n",
      "0                                     20%           NaN           20%   \n",
      "1                                     20%           NaN           20%   \n",
      "2                                     40%           NaN           40%   \n",
      "3                                     50%           NaN           50%   \n",
      "4                                     50%           NaN           50%   \n",
      "...                                   ...           ...           ...   \n",
      "1164864  60% Coinsurance after deductible           NaN          100%   \n",
      "1164865                               NaN           NaN           NaN   \n",
      "1164866                               NaN           NaN           NaN   \n",
      "1164867                               NaN           NaN           NaN   \n",
      "1164868                               NaN           NaN           NaN   \n",
      "\n",
      "        CopayInnTier1 CopayInnTier2 CopayOutofNet            EHBVarReason  \\\n",
      "0           No Charge           NaN     No Charge               Above EHB   \n",
      "1           No Charge           NaN     No Charge     Substantially Equal   \n",
      "2           No Charge           NaN     No Charge     Substantially Equal   \n",
      "3           No Charge           NaN     No Charge  Additional EHB Benefit   \n",
      "4           No Charge           NaN     No Charge     Substantially Equal   \n",
      "...               ...           ...           ...                     ...   \n",
      "1164864     No Charge           NaN     No Charge                     NaN   \n",
      "1164865           NaN           NaN           NaN                     NaN   \n",
      "1164866           NaN           NaN           NaN                     NaN   \n",
      "1164867           NaN           NaN           NaN                     NaN   \n",
      "1164868           NaN           NaN           NaN                     NaN   \n",
      "\n",
      "        Exclusions  ...              LimitUnit MinimumStay             PlanId  \\\n",
      "0              NaN  ...       Dollars per Year         NaN  21989AK0010001-00   \n",
      "1              NaN  ...  Visit(s) per 6 Months         NaN  21989AK0010001-00   \n",
      "2              NaN  ...                    NaN         NaN  21989AK0010001-00   \n",
      "3              NaN  ...                    NaN         NaN  21989AK0010001-00   \n",
      "4              NaN  ...                    NaN         NaN  21989AK0010001-00   \n",
      "...            ...  ...                    ...         ...                ...   \n",
      "1164864        NaN  ...                    NaN         NaN  96480WV0110001-01   \n",
      "1164865        NaN  ...                    NaN         NaN  96480WV0110001-01   \n",
      "1164866        NaN  ...                    NaN         NaN  96480WV0110001-01   \n",
      "1164867        NaN  ...                    NaN         NaN  96480WV0110001-01   \n",
      "1164868        NaN  ...                    NaN         NaN  96480WV0110001-01   \n",
      "\n",
      "        QuantLimitOnSvc RowNumber SourceName StandardComponentId StateCode  \\\n",
      "0                   Yes        68       HIOS      21989AK0010001        AK   \n",
      "1                   Yes       104       HIOS      21989AK0010001        AK   \n",
      "2                   NaN       110       HIOS      21989AK0010001        AK   \n",
      "3                   NaN       111       HIOS      21989AK0010001        AK   \n",
      "4                   NaN       112       HIOS      21989AK0010001        AK   \n",
      "...                 ...       ...        ...                 ...       ...   \n",
      "1164864             NaN       112      SERFF      96480WV0110001        WV   \n",
      "1164865             NaN       113      SERFF      96480WV0110001        WV   \n",
      "1164866             NaN       114      SERFF      96480WV0110001        WV   \n",
      "1164867             NaN       115      SERFF      96480WV0110001        WV   \n",
      "1164868             NaN       118      SERFF      96480WV0110001        WV   \n",
      "\n",
      "        StateCode2  VersionNum  \n",
      "0               AK           6  \n",
      "1               AK           6  \n",
      "2               AK           6  \n",
      "3               AK           6  \n",
      "4               AK           6  \n",
      "...            ...         ...  \n",
      "1164864         WV           5  \n",
      "1164865         WV           5  \n",
      "1164866         WV           5  \n",
      "1164867         WV           5  \n",
      "1164868         WV           5  \n",
      "\n",
      "[1164869 rows x 32 columns]\n"
     ]
    }
   ],
   "source": [
    "df_filtered_2014 = df2[df2['BusinessYear'] == 2014]\n",
    "\n",
    "print(\"Filtered DataFrame:\")\n",
    "print(df_filtered_2014)"
   ]
  },
  {
   "cell_type": "code",
   "execution_count": 71,
   "id": "d0503da1-e0e4-4d00-8d9c-ef0a2f272d55",
   "metadata": {},
   "outputs": [],
   "source": [
    "df_fil_2014_unique = df_filtered_2014['CopayInnTier2'].unique()"
   ]
  },
  {
   "cell_type": "code",
   "execution_count": 73,
   "id": "7f75f891-70fd-4015-b04d-be517cb4950b",
   "metadata": {},
   "outputs": [
    {
     "data": {
      "text/plain": [
       "array([nan, '$100', '$0', '$200', 'No Charge', '$400', '$35', '$50',\n",
       "       '$15', '$400 Copay per Day', '$40', '$60', '$0 Copay per Day',\n",
       "       '$65', '$20', '$395', '$600', '$25', '$300', '$600 Copay per Day',\n",
       "       '$30', '$75', '$10', '$5', '$750', '$25 Copay after deductible',\n",
       "       '$500', 'No Charge after deductible', '$50 Copay after deductible',\n",
       "       '$500 Copay per Day', '$1,000', '$500 Copay after deductible',\n",
       "       '$400 Copay after deductible', '$300 Copay after deductible',\n",
       "       '$1000 Copay after deductible', '$100 Copay after deductible',\n",
       "       '$60 Copay after deductible', '$200 Copay after deductible',\n",
       "       '$75 Copay after deductible', '$1250 Copay after deductible',\n",
       "       '$40 Copay after deductible', '$150', '$200 Copay per Day', '$320',\n",
       "       '$80', '$20 Copay after deductible', '$100 Copay per Day',\n",
       "       '$50 Copay per Day', '$120', '$750 Copay before deductible',\n",
       "       '$150 Copay before deductible', '$500 Copay before deductible',\n",
       "       '$200 Copay before deductible', '$110 Copay before deductible',\n",
       "       '$85 Copay before deductible', '$400 Copay before deductible',\n",
       "       '$75 Copay before deductible', '$80 Copay before deductible',\n",
       "       '$40 Copay before deductible', '$60 Copay before deductible',\n",
       "       '$250 Copay before deductible', '$20 Copay before deductible',\n",
       "       '$50 Copay before deductible', '$100 Copay before deductible',\n",
       "       '$350 Copay before deductible', '$30 Copay before deductible',\n",
       "       '$10 Copay before deductible', '$25 Copay before deductible',\n",
       "       '$120 Copay before deductible', '$15 Copay before deductible',\n",
       "       '$90 Copay before deductible', '$35 Copay before deductible',\n",
       "       '$300 Copay before deductible', '$12 Copay before deductible',\n",
       "       '$300 Copay per Day', '$250 Copay per Stay', '$0 Copay per Stay',\n",
       "       '$1000 Copay per Stay', '$1000 Copay before deductible',\n",
       "       '$55 Copay after deductible', '$85 Copay after deductible',\n",
       "       '$500 Copay per Stay', '$45', '$85', '$90',\n",
       "       '$70 Copay after deductible', '$10 Copay after deductible',\n",
       "       '$45 Copay after deductible', '$250', '$65 Copay after deductible',\n",
       "       '$3', '$55', '0%', '$30 Copay after deductible', '$7',\n",
       "       '$15 Copay after deductible', '$70', '$7 Copay after deductible',\n",
       "       '$250 Copay per Day', '$250 Copay after deductible', '$6',\n",
       "       '$2000 Copay per Stay', '$8', '$95', '$200 Copay per Stay', '$350',\n",
       "       '$700', '$700 Copay per Day', '$175 Copay per Day', '$450',\n",
       "       '$800 Copay per Day', '$800 Copay before deductible',\n",
       "       '$700 Copay before deductible', '$350 Copay per Day',\n",
       "       '$25 Copay per Day', '$4', '$150 Copay per Day',\n",
       "       '$57 Copay after deductible', '$750 Copay per Day',\n",
       "       '$18 Copay after deductible', '$280 Copay after deductible',\n",
       "       '$375', '$190', '$48', '$110 Copay after deductible',\n",
       "       '$150 Copay after deductible', '$3 Copay after deductible',\n",
       "       '$5 Copay after deductible', '$275 Copay after deductible',\n",
       "       '$80 Copay after deductible', '$90 Copay after deductible',\n",
       "       '$105 Copay after deductible', '$2000 Copay per Day', '$2,000',\n",
       "       '$1000 Copay per Day', '$5 Copay before deductible',\n",
       "       '$1300 Copay per Day', '$1200 Copay per Day', '$70 Copay per Day',\n",
       "       '$60 Copay per Day', '$1500 Copay per Day',\n",
       "       '$0 Copay after deductible', '$0 Copay before deductible',\n",
       "       '$300 Copay per Stay', '$225', '$175', '$275', '$12', '$125',\n",
       "       '$110', '$550', '$45 Copay before deductible',\n",
       "       '$100 Copay per Stay', '$150 Copay per Stay',\n",
       "       '$750 Copay after deductible', '$35 Copay after deductible',\n",
       "       '$750 Copay per Stay', '$900 Copay per Day',\n",
       "       '$900 Copay after deductible', '$350 Copay after deductible',\n",
       "       '$125 Copay after deductible'], dtype=object)"
      ]
     },
     "execution_count": 73,
     "metadata": {},
     "output_type": "execute_result"
    }
   ],
   "source": [
    "df_fil_2014_unique"
   ]
  },
  {
   "cell_type": "code",
   "execution_count": 99,
   "id": "549526a9-2635-43f7-a0aa-ebd1bd7f856b",
   "metadata": {},
   "outputs": [
    {
     "name": "stderr",
     "output_type": "stream",
     "text": [
      "C:\\Users\\abres\\AppData\\Local\\Temp\\ipykernel_18044\\2833864859.py:2: SettingWithCopyWarning: \n",
      "A value is trying to be set on a copy of a slice from a DataFrame.\n",
      "Try using .loc[row_indexer,col_indexer] = value instead\n",
      "\n",
      "See the caveats in the documentation: https://pandas.pydata.org/pandas-docs/stable/user_guide/indexing.html#returning-a-view-versus-a-copy\n",
      "  df_filtered_2014['amount_in_usd'] = df_filtered_2014['CopayInnTier2'].str.extract(r'\\$([\\d,]+)')\n",
      "C:\\Users\\abres\\AppData\\Local\\Temp\\ipykernel_18044\\2833864859.py:3: SettingWithCopyWarning: \n",
      "A value is trying to be set on a copy of a slice from a DataFrame.\n",
      "Try using .loc[row_indexer,col_indexer] = value instead\n",
      "\n",
      "See the caveats in the documentation: https://pandas.pydata.org/pandas-docs/stable/user_guide/indexing.html#returning-a-view-versus-a-copy\n",
      "  df_filtered_2014['Description'] = df_filtered_2014['CopayInnTier2'].str.replace(r'\\$[\\d,]+\\s?', '', regex=True)\n",
      "C:\\Users\\abres\\AppData\\Local\\Temp\\ipykernel_18044\\2833864859.py:6: SettingWithCopyWarning: \n",
      "A value is trying to be set on a copy of a slice from a DataFrame.\n",
      "Try using .loc[row_indexer,col_indexer] = value instead\n",
      "\n",
      "See the caveats in the documentation: https://pandas.pydata.org/pandas-docs/stable/user_guide/indexing.html#returning-a-view-versus-a-copy\n",
      "  df_filtered_2014['amount_in_usd'] = df_filtered_2014['amount_in_usd'].str.replace(',', '').fillna('NaN')  # Remove commas for numerical conversion\n",
      "C:\\Users\\abres\\AppData\\Local\\Temp\\ipykernel_18044\\2833864859.py:7: SettingWithCopyWarning: \n",
      "A value is trying to be set on a copy of a slice from a DataFrame.\n",
      "Try using .loc[row_indexer,col_indexer] = value instead\n",
      "\n",
      "See the caveats in the documentation: https://pandas.pydata.org/pandas-docs/stable/user_guide/indexing.html#returning-a-view-versus-a-copy\n",
      "  df_filtered_2014['Description'] = df_filtered_2014['Description'].replace({'': 'NaN', 'nan': 'NaN'})\n",
      "C:\\Users\\abres\\AppData\\Local\\Temp\\ipykernel_18044\\2833864859.py:10: SettingWithCopyWarning: \n",
      "A value is trying to be set on a copy of a slice from a DataFrame.\n",
      "Try using .loc[row_indexer,col_indexer] = value instead\n",
      "\n",
      "See the caveats in the documentation: https://pandas.pydata.org/pandas-docs/stable/user_guide/indexing.html#returning-a-view-versus-a-copy\n",
      "  df_filtered_2014['amount_in_usd'] = pd.to_numeric(df_filtered_2014['amount_in_usd'], errors='coerce')\n"
     ]
    }
   ],
   "source": [
    "# Separate into 'Amount' and 'Description'\n",
    "df_filtered_2014['amount_in_usd'] = df_filtered_2014['CopayInnTier2'].str.extract(r'\\$([\\d,]+)')\n",
    "df_filtered_2014['Description'] = df_filtered_2014['CopayInnTier2'].str.replace(r'\\$[\\d,]+\\s?', '', regex=True)\n",
    "\n",
    "# Replace 'nan' or empty strings with NaN for clarity\n",
    "df_filtered_2014['amount_in_usd'] = df_filtered_2014['amount_in_usd'].str.replace(',', '').fillna('NaN')  # Remove commas for numerical conversion\n",
    "df_filtered_2014['Description'] = df_filtered_2014['Description'].replace({'': 'NaN', 'nan': 'NaN'})\n",
    "\n",
    "# Convert Amount to numeric for analysis\n",
    "df_filtered_2014['amount_in_usd'] = pd.to_numeric(df_filtered_2014['amount_in_usd'], errors='coerce')"
   ]
  },
  {
   "cell_type": "code",
   "execution_count": 101,
   "id": "9bead72f-111c-4162-9e50-b8a475689c01",
   "metadata": {},
   "outputs": [
    {
     "data": {
      "text/html": [
       "<div>\n",
       "<style scoped>\n",
       "    .dataframe tbody tr th:only-of-type {\n",
       "        vertical-align: middle;\n",
       "    }\n",
       "\n",
       "    .dataframe tbody tr th {\n",
       "        vertical-align: top;\n",
       "    }\n",
       "\n",
       "    .dataframe thead th {\n",
       "        text-align: right;\n",
       "    }\n",
       "</style>\n",
       "<table border=\"1\" class=\"dataframe\">\n",
       "  <thead>\n",
       "    <tr style=\"text-align: right;\">\n",
       "      <th></th>\n",
       "      <th>BenefitName</th>\n",
       "      <th>BusinessYear</th>\n",
       "      <th>CoinsInnTier1</th>\n",
       "      <th>CoinsInnTier2</th>\n",
       "      <th>CoinsOutofNet</th>\n",
       "      <th>CopayInnTier1</th>\n",
       "      <th>CopayInnTier2</th>\n",
       "      <th>CopayOutofNet</th>\n",
       "      <th>EHBVarReason</th>\n",
       "      <th>Exclusions</th>\n",
       "      <th>...</th>\n",
       "      <th>QuantLimitOnSvc</th>\n",
       "      <th>RowNumber</th>\n",
       "      <th>SourceName</th>\n",
       "      <th>StandardComponentId</th>\n",
       "      <th>StateCode</th>\n",
       "      <th>StateCode2</th>\n",
       "      <th>VersionNum</th>\n",
       "      <th>Amount</th>\n",
       "      <th>Description</th>\n",
       "      <th>amount_in_usd</th>\n",
       "    </tr>\n",
       "  </thead>\n",
       "  <tbody>\n",
       "    <tr>\n",
       "      <th>0</th>\n",
       "      <td>Routine Dental Services (Adult)</td>\n",
       "      <td>2014</td>\n",
       "      <td>20%</td>\n",
       "      <td>NaN</td>\n",
       "      <td>20%</td>\n",
       "      <td>No Charge</td>\n",
       "      <td>NaN</td>\n",
       "      <td>No Charge</td>\n",
       "      <td>Above EHB</td>\n",
       "      <td>NaN</td>\n",
       "      <td>...</td>\n",
       "      <td>Yes</td>\n",
       "      <td>68</td>\n",
       "      <td>HIOS</td>\n",
       "      <td>21989AK0010001</td>\n",
       "      <td>AK</td>\n",
       "      <td>AK</td>\n",
       "      <td>6</td>\n",
       "      <td>NaN</td>\n",
       "      <td>NaN</td>\n",
       "      <td>NaN</td>\n",
       "    </tr>\n",
       "    <tr>\n",
       "      <th>1</th>\n",
       "      <td>Dental Check-Up for Children</td>\n",
       "      <td>2014</td>\n",
       "      <td>20%</td>\n",
       "      <td>NaN</td>\n",
       "      <td>20%</td>\n",
       "      <td>No Charge</td>\n",
       "      <td>NaN</td>\n",
       "      <td>No Charge</td>\n",
       "      <td>Substantially Equal</td>\n",
       "      <td>NaN</td>\n",
       "      <td>...</td>\n",
       "      <td>Yes</td>\n",
       "      <td>104</td>\n",
       "      <td>HIOS</td>\n",
       "      <td>21989AK0010001</td>\n",
       "      <td>AK</td>\n",
       "      <td>AK</td>\n",
       "      <td>6</td>\n",
       "      <td>NaN</td>\n",
       "      <td>NaN</td>\n",
       "      <td>NaN</td>\n",
       "    </tr>\n",
       "    <tr>\n",
       "      <th>2</th>\n",
       "      <td>Basic Dental Care - Child</td>\n",
       "      <td>2014</td>\n",
       "      <td>40%</td>\n",
       "      <td>NaN</td>\n",
       "      <td>40%</td>\n",
       "      <td>No Charge</td>\n",
       "      <td>NaN</td>\n",
       "      <td>No Charge</td>\n",
       "      <td>Substantially Equal</td>\n",
       "      <td>NaN</td>\n",
       "      <td>...</td>\n",
       "      <td>NaN</td>\n",
       "      <td>110</td>\n",
       "      <td>HIOS</td>\n",
       "      <td>21989AK0010001</td>\n",
       "      <td>AK</td>\n",
       "      <td>AK</td>\n",
       "      <td>6</td>\n",
       "      <td>NaN</td>\n",
       "      <td>NaN</td>\n",
       "      <td>NaN</td>\n",
       "    </tr>\n",
       "    <tr>\n",
       "      <th>3</th>\n",
       "      <td>Orthodontia - Child</td>\n",
       "      <td>2014</td>\n",
       "      <td>50%</td>\n",
       "      <td>NaN</td>\n",
       "      <td>50%</td>\n",
       "      <td>No Charge</td>\n",
       "      <td>NaN</td>\n",
       "      <td>No Charge</td>\n",
       "      <td>Additional EHB Benefit</td>\n",
       "      <td>NaN</td>\n",
       "      <td>...</td>\n",
       "      <td>NaN</td>\n",
       "      <td>111</td>\n",
       "      <td>HIOS</td>\n",
       "      <td>21989AK0010001</td>\n",
       "      <td>AK</td>\n",
       "      <td>AK</td>\n",
       "      <td>6</td>\n",
       "      <td>NaN</td>\n",
       "      <td>NaN</td>\n",
       "      <td>NaN</td>\n",
       "    </tr>\n",
       "    <tr>\n",
       "      <th>4</th>\n",
       "      <td>Major Dental Care - Child</td>\n",
       "      <td>2014</td>\n",
       "      <td>50%</td>\n",
       "      <td>NaN</td>\n",
       "      <td>50%</td>\n",
       "      <td>No Charge</td>\n",
       "      <td>NaN</td>\n",
       "      <td>No Charge</td>\n",
       "      <td>Substantially Equal</td>\n",
       "      <td>NaN</td>\n",
       "      <td>...</td>\n",
       "      <td>NaN</td>\n",
       "      <td>112</td>\n",
       "      <td>HIOS</td>\n",
       "      <td>21989AK0010001</td>\n",
       "      <td>AK</td>\n",
       "      <td>AK</td>\n",
       "      <td>6</td>\n",
       "      <td>NaN</td>\n",
       "      <td>NaN</td>\n",
       "      <td>NaN</td>\n",
       "    </tr>\n",
       "  </tbody>\n",
       "</table>\n",
       "<p>5 rows × 35 columns</p>\n",
       "</div>"
      ],
      "text/plain": [
       "                       BenefitName  BusinessYear CoinsInnTier1 CoinsInnTier2  \\\n",
       "0  Routine Dental Services (Adult)          2014           20%           NaN   \n",
       "1     Dental Check-Up for Children          2014           20%           NaN   \n",
       "2        Basic Dental Care - Child          2014           40%           NaN   \n",
       "3              Orthodontia - Child          2014           50%           NaN   \n",
       "4        Major Dental Care - Child          2014           50%           NaN   \n",
       "\n",
       "  CoinsOutofNet CopayInnTier1 CopayInnTier2 CopayOutofNet  \\\n",
       "0           20%     No Charge           NaN     No Charge   \n",
       "1           20%     No Charge           NaN     No Charge   \n",
       "2           40%     No Charge           NaN     No Charge   \n",
       "3           50%     No Charge           NaN     No Charge   \n",
       "4           50%     No Charge           NaN     No Charge   \n",
       "\n",
       "             EHBVarReason Exclusions  ... QuantLimitOnSvc RowNumber  \\\n",
       "0               Above EHB        NaN  ...             Yes        68   \n",
       "1     Substantially Equal        NaN  ...             Yes       104   \n",
       "2     Substantially Equal        NaN  ...             NaN       110   \n",
       "3  Additional EHB Benefit        NaN  ...             NaN       111   \n",
       "4     Substantially Equal        NaN  ...             NaN       112   \n",
       "\n",
       "  SourceName StandardComponentId StateCode StateCode2 VersionNum Amount  \\\n",
       "0       HIOS      21989AK0010001        AK         AK          6    NaN   \n",
       "1       HIOS      21989AK0010001        AK         AK          6    NaN   \n",
       "2       HIOS      21989AK0010001        AK         AK          6    NaN   \n",
       "3       HIOS      21989AK0010001        AK         AK          6    NaN   \n",
       "4       HIOS      21989AK0010001        AK         AK          6    NaN   \n",
       "\n",
       "  Description  amount_in_usd  \n",
       "0         NaN            NaN  \n",
       "1         NaN            NaN  \n",
       "2         NaN            NaN  \n",
       "3         NaN            NaN  \n",
       "4         NaN            NaN  \n",
       "\n",
       "[5 rows x 35 columns]"
      ]
     },
     "execution_count": 101,
     "metadata": {},
     "output_type": "execute_result"
    }
   ],
   "source": [
    "# Display the resulting DataFrame\n",
    "df_filtered_2014.head()"
   ]
  },
  {
   "cell_type": "code",
   "execution_count": 105,
   "id": "45999c54-5deb-434b-8c9f-f87b0ac99261",
   "metadata": {},
   "outputs": [
    {
     "name": "stdout",
     "output_type": "stream",
     "text": [
      "Filtered DataFrame:\n",
      "         BusinessYear             PlanId CopayInnTier1  amount_in_usd  \\\n",
      "0                2014  21989AK0010001-00     No Charge            NaN   \n",
      "1                2014  21989AK0010001-00     No Charge            NaN   \n",
      "2                2014  21989AK0010001-00     No Charge            NaN   \n",
      "3                2014  21989AK0010001-00     No Charge            NaN   \n",
      "4                2014  21989AK0010001-00     No Charge            NaN   \n",
      "...               ...                ...           ...            ...   \n",
      "1164864          2014  96480WV0110001-01     No Charge            NaN   \n",
      "1164865          2014  96480WV0110001-01           NaN            NaN   \n",
      "1164866          2014  96480WV0110001-01           NaN            NaN   \n",
      "1164867          2014  96480WV0110001-01           NaN            NaN   \n",
      "1164868          2014  96480WV0110001-01           NaN            NaN   \n",
      "\n",
      "        Description  \n",
      "0               NaN  \n",
      "1               NaN  \n",
      "2               NaN  \n",
      "3               NaN  \n",
      "4               NaN  \n",
      "...             ...  \n",
      "1164864         NaN  \n",
      "1164865         NaN  \n",
      "1164866         NaN  \n",
      "1164867         NaN  \n",
      "1164868         NaN  \n",
      "\n",
      "[1164869 rows x 5 columns]\n"
     ]
    }
   ],
   "source": [
    "# Keep only the specified columns\n",
    "columns_to_keep = ['BusinessYear', 'PlanId','CopayInnTier1','amount_in_usd','Description']\n",
    "df_filtered_new = df_filtered_2014[columns_to_keep]\n",
    "\n",
    "print(\"Filtered DataFrame:\")\n",
    "print(df_filtered_new)"
   ]
  },
  {
   "cell_type": "code",
   "execution_count": 107,
   "id": "69c53efd-1715-44b7-a4ef-cdf322e98e99",
   "metadata": {},
   "outputs": [],
   "source": [
    "unq_d4 = df_filtered_new['Description'].unique()"
   ]
  },
  {
   "cell_type": "code",
   "execution_count": 109,
   "id": "9dddfaca-df93-4a56-b9b6-20f02bc6cf8d",
   "metadata": {},
   "outputs": [
    {
     "data": {
      "text/plain": [
       "array([nan, 'NaN', 'No Charge', 'Copay per Day', 'Copay after deductible',\n",
       "       'No Charge after deductible', 'Copay before deductible',\n",
       "       'Copay per Stay', '0%'], dtype=object)"
      ]
     },
     "execution_count": 109,
     "metadata": {},
     "output_type": "execute_result"
    }
   ],
   "source": [
    "unq_d4"
   ]
  },
  {
   "cell_type": "code",
   "execution_count": 113,
   "id": "b2f7f623-8b95-4bc6-9978-a80ef53225e8",
   "metadata": {},
   "outputs": [],
   "source": [
    "unq_d5 = df_filtered_new['amount_in_usd'].unique()"
   ]
  },
  {
   "cell_type": "code",
   "execution_count": 97,
   "id": "9c9f26a5-37e8-4464-89c8-79b78a96b865",
   "metadata": {},
   "outputs": [
    {
     "data": {
      "text/plain": [
       "array([  nan,  100.,    0.,  200.,  400.,   35.,   50.,   15.,   40.,\n",
       "         60.,   65.,   20.,  395.,  600.,   25.,  300.,   30.,   75.,\n",
       "         10.,    5.,  750.,  500., 1000., 1250.,  150.,  320.,   80.,\n",
       "        120.,  110.,   85.,  250.,  350.,   90.,   12.,   55.,   45.,\n",
       "         70.,    3.,    7.,    6., 2000.,    8.,   95.,  700.,  175.,\n",
       "        450.,  800.,    4.,   57.,   18.,  280.,  375.,  190.,   48.,\n",
       "        275.,  105., 1300., 1200., 1500.,  225.,  125.,  550.,  900.])"
      ]
     },
     "execution_count": 97,
     "metadata": {},
     "output_type": "execute_result"
    }
   ],
   "source": [
    "unq_d5"
   ]
  },
  {
   "cell_type": "code",
   "execution_count": 115,
   "id": "fb859493-0ee9-46c1-b52e-3ec95c6b12f0",
   "metadata": {},
   "outputs": [
    {
     "data": {
      "text/html": [
       "<div>\n",
       "<style scoped>\n",
       "    .dataframe tbody tr th:only-of-type {\n",
       "        vertical-align: middle;\n",
       "    }\n",
       "\n",
       "    .dataframe tbody tr th {\n",
       "        vertical-align: top;\n",
       "    }\n",
       "\n",
       "    .dataframe thead th {\n",
       "        text-align: right;\n",
       "    }\n",
       "</style>\n",
       "<table border=\"1\" class=\"dataframe\">\n",
       "  <thead>\n",
       "    <tr style=\"text-align: right;\">\n",
       "      <th></th>\n",
       "      <th>BusinessYear</th>\n",
       "      <th>PlanId</th>\n",
       "      <th>CopayInnTier1</th>\n",
       "      <th>amount_in_usd</th>\n",
       "      <th>Description</th>\n",
       "    </tr>\n",
       "  </thead>\n",
       "  <tbody>\n",
       "    <tr>\n",
       "      <th>0</th>\n",
       "      <td>2014</td>\n",
       "      <td>21989AK0010001-00</td>\n",
       "      <td>No Charge</td>\n",
       "      <td>NaN</td>\n",
       "      <td>NaN</td>\n",
       "    </tr>\n",
       "    <tr>\n",
       "      <th>1</th>\n",
       "      <td>2014</td>\n",
       "      <td>21989AK0010001-00</td>\n",
       "      <td>No Charge</td>\n",
       "      <td>NaN</td>\n",
       "      <td>NaN</td>\n",
       "    </tr>\n",
       "    <tr>\n",
       "      <th>2</th>\n",
       "      <td>2014</td>\n",
       "      <td>21989AK0010001-00</td>\n",
       "      <td>No Charge</td>\n",
       "      <td>NaN</td>\n",
       "      <td>NaN</td>\n",
       "    </tr>\n",
       "    <tr>\n",
       "      <th>3</th>\n",
       "      <td>2014</td>\n",
       "      <td>21989AK0010001-00</td>\n",
       "      <td>No Charge</td>\n",
       "      <td>NaN</td>\n",
       "      <td>NaN</td>\n",
       "    </tr>\n",
       "    <tr>\n",
       "      <th>4</th>\n",
       "      <td>2014</td>\n",
       "      <td>21989AK0010001-00</td>\n",
       "      <td>No Charge</td>\n",
       "      <td>NaN</td>\n",
       "      <td>NaN</td>\n",
       "    </tr>\n",
       "    <tr>\n",
       "      <th>...</th>\n",
       "      <td>...</td>\n",
       "      <td>...</td>\n",
       "      <td>...</td>\n",
       "      <td>...</td>\n",
       "      <td>...</td>\n",
       "    </tr>\n",
       "    <tr>\n",
       "      <th>1164864</th>\n",
       "      <td>2014</td>\n",
       "      <td>96480WV0110001-01</td>\n",
       "      <td>No Charge</td>\n",
       "      <td>NaN</td>\n",
       "      <td>NaN</td>\n",
       "    </tr>\n",
       "    <tr>\n",
       "      <th>1164865</th>\n",
       "      <td>2014</td>\n",
       "      <td>96480WV0110001-01</td>\n",
       "      <td>NaN</td>\n",
       "      <td>NaN</td>\n",
       "      <td>NaN</td>\n",
       "    </tr>\n",
       "    <tr>\n",
       "      <th>1164866</th>\n",
       "      <td>2014</td>\n",
       "      <td>96480WV0110001-01</td>\n",
       "      <td>NaN</td>\n",
       "      <td>NaN</td>\n",
       "      <td>NaN</td>\n",
       "    </tr>\n",
       "    <tr>\n",
       "      <th>1164867</th>\n",
       "      <td>2014</td>\n",
       "      <td>96480WV0110001-01</td>\n",
       "      <td>NaN</td>\n",
       "      <td>NaN</td>\n",
       "      <td>NaN</td>\n",
       "    </tr>\n",
       "    <tr>\n",
       "      <th>1164868</th>\n",
       "      <td>2014</td>\n",
       "      <td>96480WV0110001-01</td>\n",
       "      <td>NaN</td>\n",
       "      <td>NaN</td>\n",
       "      <td>NaN</td>\n",
       "    </tr>\n",
       "  </tbody>\n",
       "</table>\n",
       "<p>1164869 rows × 5 columns</p>\n",
       "</div>"
      ],
      "text/plain": [
       "         BusinessYear             PlanId CopayInnTier1  amount_in_usd  \\\n",
       "0                2014  21989AK0010001-00     No Charge            NaN   \n",
       "1                2014  21989AK0010001-00     No Charge            NaN   \n",
       "2                2014  21989AK0010001-00     No Charge            NaN   \n",
       "3                2014  21989AK0010001-00     No Charge            NaN   \n",
       "4                2014  21989AK0010001-00     No Charge            NaN   \n",
       "...               ...                ...           ...            ...   \n",
       "1164864          2014  96480WV0110001-01     No Charge            NaN   \n",
       "1164865          2014  96480WV0110001-01           NaN            NaN   \n",
       "1164866          2014  96480WV0110001-01           NaN            NaN   \n",
       "1164867          2014  96480WV0110001-01           NaN            NaN   \n",
       "1164868          2014  96480WV0110001-01           NaN            NaN   \n",
       "\n",
       "        Description  \n",
       "0               NaN  \n",
       "1               NaN  \n",
       "2               NaN  \n",
       "3               NaN  \n",
       "4               NaN  \n",
       "...             ...  \n",
       "1164864         NaN  \n",
       "1164865         NaN  \n",
       "1164866         NaN  \n",
       "1164867         NaN  \n",
       "1164868         NaN  \n",
       "\n",
       "[1164869 rows x 5 columns]"
      ]
     },
     "execution_count": 115,
     "metadata": {},
     "output_type": "execute_result"
    }
   ],
   "source": [
    "df_filtered_new"
   ]
  },
  {
   "cell_type": "code",
   "execution_count": 117,
   "id": "3373ebbf-a1fc-4443-ac41-b8889b25a57e",
   "metadata": {},
   "outputs": [],
   "source": [
    "nan_counts = df_filtered_new['amount_in_usd'].isna().sum()"
   ]
  },
  {
   "cell_type": "code",
   "execution_count": 119,
   "id": "1cfd254d-d22c-4c97-b78a-7f7e7805b59e",
   "metadata": {},
   "outputs": [
    {
     "data": {
      "text/plain": [
       "1132520"
      ]
     },
     "execution_count": 119,
     "metadata": {},
     "output_type": "execute_result"
    }
   ],
   "source": [
    "nan_counts"
   ]
  },
  {
   "cell_type": "code",
   "execution_count": 131,
   "id": "a91b05ee-1bb0-4bc9-8a85-ebab2bdeb148",
   "metadata": {},
   "outputs": [
    {
     "name": "stdout",
     "output_type": "stream",
     "text": [
      "The count of 'Copay per Day': 1128\n"
     ]
    }
   ],
   "source": [
    "count = df_filtered_new['Description'].value_counts().get(\"Copay per Day\", 0)\n",
    "\n",
    "print(f\"The count of 'Copay per Day': {count}\")"
   ]
  },
  {
   "cell_type": "code",
   "execution_count": 133,
   "id": "bf3ce4c3-a4ae-4775-9931-397039219274",
   "metadata": {},
   "outputs": [
    {
     "name": "stdout",
     "output_type": "stream",
     "text": [
      "Count of all unique values:\n",
      "Description\n",
      "No Charge                     28577\n",
      "NaN                           20977\n",
      "Copay before deductible        7779\n",
      "No Charge after deductible     6139\n",
      "Copay after deductible         1793\n",
      "Copay per Day                  1128\n",
      "Copay per Stay                  672\n",
      "0%                               74\n",
      "Name: count, dtype: int64\n"
     ]
    }
   ],
   "source": [
    "value_counts = df_filtered_new['Description'].value_counts()\n",
    "\n",
    "print(\"Count of all unique values:\")\n",
    "print(value_counts)"
   ]
  },
  {
   "cell_type": "code",
   "execution_count": 135,
   "id": "e0c37f54-7e29-42cd-b16b-7443b80b3c5f",
   "metadata": {},
   "outputs": [
    {
     "name": "stdout",
     "output_type": "stream",
     "text": [
      "Count of all unique values:\n",
      "amount_in_usd\n",
      "0.0       16737\n",
      "50.0       2093\n",
      "75.0       1922\n",
      "150.0      1110\n",
      "40.0       1006\n",
      "          ...  \n",
      "1200.0        2\n",
      "280.0         2\n",
      "320.0         2\n",
      "105.0         1\n",
      "6.0           1\n",
      "Name: count, Length: 62, dtype: int64\n"
     ]
    }
   ],
   "source": [
    "value_counts_amt = df_filtered_new['amount_in_usd'].value_counts()\n",
    "\n",
    "print(\"Count of all unique values:\")\n",
    "print(value_counts_amt)"
   ]
  },
  {
   "cell_type": "code",
   "execution_count": 137,
   "id": "ba3ef0ac-f27c-4b8e-965b-e81ceb30d3df",
   "metadata": {},
   "outputs": [
    {
     "name": "stdout",
     "output_type": "stream",
     "text": [
      "Filtered DataFrame:\n",
      "         BusinessYear             PlanId       CopayInnTier1  amount_in_usd  \\\n",
      "10226            2014  46944AL0340001-01  $200 Copay per Day          400.0   \n",
      "10323            2014  46944AL0360001-00  $200 Copay per Day          400.0   \n",
      "10435            2014  46944AL0340001-00  $200 Copay per Day          400.0   \n",
      "10535            2014  46944AL0370001-01  $200 Copay per Day            0.0   \n",
      "10601            2014  46944AL0410001-01  $300 Copay per Day            0.0   \n",
      "...               ...                ...                 ...            ...   \n",
      "1158868          2014  99663VA0140021-06    $0 Copay per Day            0.0   \n",
      "1158953          2014  99663VA0140022-01    $0 Copay per Day            0.0   \n",
      "1158957          2014  99663VA0140022-01    $0 Copay per Day            0.0   \n",
      "1159063          2014  99663VA0140022-03    $0 Copay per Day            0.0   \n",
      "1159067          2014  99663VA0140022-03    $0 Copay per Day            0.0   \n",
      "\n",
      "           Description  \n",
      "10226    Copay per Day  \n",
      "10323    Copay per Day  \n",
      "10435    Copay per Day  \n",
      "10535    Copay per Day  \n",
      "10601    Copay per Day  \n",
      "...                ...  \n",
      "1158868  Copay per Day  \n",
      "1158953  Copay per Day  \n",
      "1158957  Copay per Day  \n",
      "1159063  Copay per Day  \n",
      "1159067  Copay per Day  \n",
      "\n",
      "[1128 rows x 5 columns]\n"
     ]
    }
   ],
   "source": [
    "filtered_df = df_filtered_new[df_filtered_new['Description'] == \"Copay per Day\"]\n",
    "\n",
    "print(\"Filtered DataFrame:\")\n",
    "print(filtered_df)"
   ]
  },
  {
   "cell_type": "code",
   "execution_count": null,
   "id": "8ad5299c-d5e0-4c09-a282-4936f8f72ae5",
   "metadata": {},
   "outputs": [],
   "source": []
  }
 ],
 "metadata": {
  "kernelspec": {
   "display_name": "Python 3 (ipykernel)",
   "language": "python",
   "name": "python3"
  },
  "language_info": {
   "codemirror_mode": {
    "name": "ipython",
    "version": 3
   },
   "file_extension": ".py",
   "mimetype": "text/x-python",
   "name": "python",
   "nbconvert_exporter": "python",
   "pygments_lexer": "ipython3",
   "version": "3.12.4"
  }
 },
 "nbformat": 4,
 "nbformat_minor": 5
}
