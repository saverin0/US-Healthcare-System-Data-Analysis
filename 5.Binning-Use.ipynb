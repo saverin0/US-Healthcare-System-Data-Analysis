{
 "cells": [
  {
   "cell_type": "markdown",
   "id": "3301186f-3cd9-4386-9863-f6248ba90d2f",
   "metadata": {},
   "source": [
    "## Overview\n",
    "Binning \"Age\" column is Common age ranges for health-related analysis include the following categories. By Fixed Interval Binning, a simple method to create age groups. Analyze different age groups and plan types together affect the dependent variable (Coinsurance)"
   ]
  },
  {
   "cell_type": "markdown",
   "id": "f2942698-9585-4406-8a9b-7336c2db28e1",
   "metadata": {},
   "source": [
    "### Objective\n",
    "1. Loading and inspecting dataset\n",
    "2. Binning \"Age\" column\n",
    "3. Observations\n",
    "4. Handle unnecessary columns"
   ]
  },
  {
   "cell_type": "markdown",
   "id": "7217625a-1dbe-47fc-936e-ad441007f5e7",
   "metadata": {},
   "source": [
    "### 1. Loading and inspecting dataset\n",
    "#### import library\n",
    "1. pandas that it allows you to create, manipulate, and analyze datasets efficiently.\n",
    "2. numpy that it provides support for arrays, matrices, and various mathematical functions.\n",
    "3. seaborn that it provides high-level functions to create attractive and informative plots.\n",
    "4. matplotlib is a foundational library for creating static, interactive, and animated visualizations."
   ]
  },
  {
   "cell_type": "code",
   "execution_count": 178,
   "id": "824e2fd7-c8d1-439a-90ec-e39bc0e8a730",
   "metadata": {},
   "outputs": [],
   "source": [
    "import pandas as pd\n",
    "import numpy as np\n",
    "import seaborn as sns\n",
    "import matplotlib.pyplot as plt"
   ]
  },
  {
   "cell_type": "code",
   "execution_count": 179,
   "id": "16232be8-3d8b-4269-a583-5b667878c23e",
   "metadata": {},
   "outputs": [
    {
     "name": "stdout",
     "output_type": "stream",
     "text": [
      "<class 'pandas.core.frame.DataFrame'>\n",
      "RangeIndex: 6000 entries, 0 to 5999\n",
      "Data columns (total 5 columns):\n",
      " #   Column               Non-Null Count  Dtype \n",
      "---  ------               --------------  ----- \n",
      " 0   Unnamed: 0           6000 non-null   int64 \n",
      " 1   StandardComponentId  6000 non-null   object\n",
      " 2   Age                  6000 non-null   int64 \n",
      " 3   PlanType             6000 non-null   object\n",
      " 4   Coinsurance          6000 non-null   int64 \n",
      "dtypes: int64(3), object(2)\n",
      "memory usage: 234.5+ KB\n"
     ]
    }
   ],
   "source": [
    "# Load the dataset csv file merge all value that use analyze from 4.Final_Merge_Benefit_Left-Use.ipynb\n",
    "df = pd.read_csv(\"cleaned.csv\",low_memory=False)\n",
    "\n",
    "# display all columns, Non-Null Count and Dtype\n",
    "df.info()"
   ]
  },
  {
   "cell_type": "code",
   "execution_count": 180,
   "id": "ca1ddc98-0ea5-49be-821b-30fb7f4db532",
   "metadata": {},
   "outputs": [
    {
     "name": "stdout",
     "output_type": "stream",
     "text": [
      "[20 21 22 23 24 25 26 27 28 29 30 31 32 33 34 35 36 37 38 39 40 41 42 43\n",
      " 44 45 46 47 48 49 50 51 52 53 54 55 56 57 58 59 60 61 62 63 64 65]\n"
     ]
    }
   ],
   "source": [
    "# Sort Age\n",
    "sorted_ages = np.sort(df['Age'].unique())\n",
    "print(sorted_ages)"
   ]
  },
  {
   "cell_type": "code",
   "execution_count": 181,
   "id": "4c50cd83-be33-408d-9110-a7f759ad92a0",
   "metadata": {},
   "outputs": [
    {
     "data": {
      "text/html": [
       "<div>\n",
       "<style scoped>\n",
       "    .dataframe tbody tr th:only-of-type {\n",
       "        vertical-align: middle;\n",
       "    }\n",
       "\n",
       "    .dataframe tbody tr th {\n",
       "        vertical-align: top;\n",
       "    }\n",
       "\n",
       "    .dataframe thead th {\n",
       "        text-align: right;\n",
       "    }\n",
       "</style>\n",
       "<table border=\"1\" class=\"dataframe\">\n",
       "  <thead>\n",
       "    <tr style=\"text-align: right;\">\n",
       "      <th></th>\n",
       "      <th>Unnamed: 0</th>\n",
       "      <th>StandardComponentId</th>\n",
       "      <th>Age</th>\n",
       "      <th>PlanType</th>\n",
       "      <th>Coinsurance</th>\n",
       "    </tr>\n",
       "  </thead>\n",
       "  <tbody>\n",
       "    <tr>\n",
       "      <th>0</th>\n",
       "      <td>0</td>\n",
       "      <td>40540TX0080003</td>\n",
       "      <td>20</td>\n",
       "      <td>PPO</td>\n",
       "      <td>40</td>\n",
       "    </tr>\n",
       "    <tr>\n",
       "      <th>1</th>\n",
       "      <td>1</td>\n",
       "      <td>18973IA0210004</td>\n",
       "      <td>20</td>\n",
       "      <td>POS</td>\n",
       "      <td>0</td>\n",
       "    </tr>\n",
       "    <tr>\n",
       "      <th>2</th>\n",
       "      <td>2</td>\n",
       "      <td>88380VA0720012</td>\n",
       "      <td>20</td>\n",
       "      <td>HMO</td>\n",
       "      <td>0</td>\n",
       "    </tr>\n",
       "    <tr>\n",
       "      <th>3</th>\n",
       "      <td>3</td>\n",
       "      <td>58255OH0200001</td>\n",
       "      <td>20</td>\n",
       "      <td>PPO</td>\n",
       "      <td>28</td>\n",
       "    </tr>\n",
       "    <tr>\n",
       "      <th>4</th>\n",
       "      <td>4</td>\n",
       "      <td>52664OH1510013</td>\n",
       "      <td>20</td>\n",
       "      <td>PPO</td>\n",
       "      <td>13</td>\n",
       "    </tr>\n",
       "  </tbody>\n",
       "</table>\n",
       "</div>"
      ],
      "text/plain": [
       "   Unnamed: 0 StandardComponentId  Age PlanType  Coinsurance\n",
       "0           0      40540TX0080003   20      PPO           40\n",
       "1           1      18973IA0210004   20      POS            0\n",
       "2           2      88380VA0720012   20      HMO            0\n",
       "3           3      58255OH0200001   20      PPO           28\n",
       "4           4      52664OH1510013   20      PPO           13"
      ]
     },
     "execution_count": 181,
     "metadata": {},
     "output_type": "execute_result"
    }
   ],
   "source": [
    "# display first 5 rows\n",
    "df.head()"
   ]
  },
  {
   "cell_type": "markdown",
   "id": "f09e8264-7574-49b9-bfb2-9ad2484186b9",
   "metadata": {},
   "source": [
    "### 2. Binning \"Age\" column\n",
    "1. Common age ranges for health-related analysis include the following categories\n",
    "2. By Fixed Interval Binning, a simple method to create age groups\n",
    "3. Analyze different age groups and plan types together affect the dependent variable (Coinsurance) \n",
    "    - 0-20: Typically, those who are minors and covered under parents' or guardians' health insurance plans.\n",
    "    - 21-25: Young adults, often covered under parental insurance until 26.\n",
    "    - 26-40: Typically, adults in early to mid-career stages, where private insurance plans or employer-sponsored plans become more common.\n",
    "    - 41-60: Pre-retirement age group, often with an increased focus on preventative care and management of chronic conditions.\n",
    "    - 61-64: Near-retirement age, typically covered under employer-sponsored plans or private health insurance, just before eligibility for Medicare.\n",
    "    - 65+: Seniors eligible for Medicare\n",
    "4. Create a new column for age bins"
   ]
  },
  {
   "cell_type": "code",
   "execution_count": 182,
   "id": "52f46536-fa36-47ba-9c69-9bacd49aa558",
   "metadata": {},
   "outputs": [],
   "source": [
    "# Common age bins for health-related analysis include the following categories \n",
    "# by Fixed Interval Binning, a simple approach to create age bins \n",
    "# and to analyze how different age groups and plan types together affect the dependent variable\n",
    "# 1. 0-20: Typically, those who are minors and covered under parents' or guardians' health insurance plans.\n",
    "# 2. 21-25: Young adults, often covered under parental insurance until 26.\n",
    "# 3. 26-40: Typically, adults in early to mid-career stages, where private insurance plans or employer-sponsored plans become more common.\n",
    "# 4. 41-60: Pre-retirement age group, often with an increased focus on preventative care and management of chronic conditions.\n",
    "# 5. 61-64: Near-retirement age, typically covered under employer-sponsored plans or private health insurance, just before eligibility for Medicare.\n",
    "# 6. 65+: Seniors eligible for Medicare\n",
    "\n",
    "bins = [0,21, 26, 41, 61, 65, float('inf')]  # Define age ranges\n",
    "labels = ['0-20', '21-25', '26-40', '41-60', '61-64', '65+']  # Corresponding labels\n",
    "\n",
    "# Create a new column for age bins\n",
    "df['AgeGroup'] = pd.cut(df['Age'], bins=bins, labels=labels, right=False)\n",
    "df_final = df[['AgeGroup', 'Age', 'PlanType','Coinsurance']].reset_index().sort_values(by='AgeGroup')\n",
    "#df_sorted = df_ra_clean[['AgeGroup', 'PlanId']].value_counts().reset_index(name='Count').sort_values(by='AgeGroup')"
   ]
  },
  {
   "cell_type": "code",
   "execution_count": 183,
   "id": "f7535bdb-b093-4545-8680-01bcfae9447a",
   "metadata": {},
   "outputs": [
    {
     "data": {
      "text/html": [
       "<div>\n",
       "<style scoped>\n",
       "    .dataframe tbody tr th:only-of-type {\n",
       "        vertical-align: middle;\n",
       "    }\n",
       "\n",
       "    .dataframe tbody tr th {\n",
       "        vertical-align: top;\n",
       "    }\n",
       "\n",
       "    .dataframe thead th {\n",
       "        text-align: right;\n",
       "    }\n",
       "</style>\n",
       "<table border=\"1\" class=\"dataframe\">\n",
       "  <thead>\n",
       "    <tr style=\"text-align: right;\">\n",
       "      <th></th>\n",
       "      <th>index</th>\n",
       "      <th>AgeGroup</th>\n",
       "      <th>Age</th>\n",
       "      <th>PlanType</th>\n",
       "      <th>Coinsurance</th>\n",
       "    </tr>\n",
       "  </thead>\n",
       "  <tbody>\n",
       "    <tr>\n",
       "      <th>0</th>\n",
       "      <td>0</td>\n",
       "      <td>0-20</td>\n",
       "      <td>20</td>\n",
       "      <td>PPO</td>\n",
       "      <td>40</td>\n",
       "    </tr>\n",
       "    <tr>\n",
       "      <th>1</th>\n",
       "      <td>658</td>\n",
       "      <td>0-20</td>\n",
       "      <td>20</td>\n",
       "      <td>PPO</td>\n",
       "      <td>39</td>\n",
       "    </tr>\n",
       "    <tr>\n",
       "      <th>2</th>\n",
       "      <td>659</td>\n",
       "      <td>0-20</td>\n",
       "      <td>20</td>\n",
       "      <td>Indemnity</td>\n",
       "      <td>45</td>\n",
       "    </tr>\n",
       "    <tr>\n",
       "      <th>3</th>\n",
       "      <td>660</td>\n",
       "      <td>0-20</td>\n",
       "      <td>20</td>\n",
       "      <td>PPO</td>\n",
       "      <td>23</td>\n",
       "    </tr>\n",
       "    <tr>\n",
       "      <th>4</th>\n",
       "      <td>661</td>\n",
       "      <td>0-20</td>\n",
       "      <td>20</td>\n",
       "      <td>EPO</td>\n",
       "      <td>14</td>\n",
       "    </tr>\n",
       "    <tr>\n",
       "      <th>...</th>\n",
       "      <td>...</td>\n",
       "      <td>...</td>\n",
       "      <td>...</td>\n",
       "      <td>...</td>\n",
       "      <td>...</td>\n",
       "    </tr>\n",
       "    <tr>\n",
       "      <th>5995</th>\n",
       "      <td>5338</td>\n",
       "      <td>65+</td>\n",
       "      <td>65</td>\n",
       "      <td>PPO</td>\n",
       "      <td>28</td>\n",
       "    </tr>\n",
       "    <tr>\n",
       "      <th>5996</th>\n",
       "      <td>5339</td>\n",
       "      <td>65+</td>\n",
       "      <td>65</td>\n",
       "      <td>PPO</td>\n",
       "      <td>0</td>\n",
       "    </tr>\n",
       "    <tr>\n",
       "      <th>5997</th>\n",
       "      <td>5340</td>\n",
       "      <td>65+</td>\n",
       "      <td>65</td>\n",
       "      <td>HMO</td>\n",
       "      <td>0</td>\n",
       "    </tr>\n",
       "    <tr>\n",
       "      <th>5998</th>\n",
       "      <td>5327</td>\n",
       "      <td>65+</td>\n",
       "      <td>65</td>\n",
       "      <td>PPO</td>\n",
       "      <td>33</td>\n",
       "    </tr>\n",
       "    <tr>\n",
       "      <th>5999</th>\n",
       "      <td>5999</td>\n",
       "      <td>65+</td>\n",
       "      <td>65</td>\n",
       "      <td>HMO</td>\n",
       "      <td>7</td>\n",
       "    </tr>\n",
       "  </tbody>\n",
       "</table>\n",
       "<p>6000 rows × 5 columns</p>\n",
       "</div>"
      ],
      "text/plain": [
       "      index AgeGroup  Age   PlanType  Coinsurance\n",
       "0         0     0-20   20        PPO           40\n",
       "1       658     0-20   20        PPO           39\n",
       "2       659     0-20   20  Indemnity           45\n",
       "3       660     0-20   20        PPO           23\n",
       "4       661     0-20   20        EPO           14\n",
       "...     ...      ...  ...        ...          ...\n",
       "5995   5338      65+   65        PPO           28\n",
       "5996   5339      65+   65        PPO            0\n",
       "5997   5340      65+   65        HMO            0\n",
       "5998   5327      65+   65        PPO           33\n",
       "5999   5999      65+   65        HMO            7\n",
       "\n",
       "[6000 rows x 5 columns]"
      ]
     },
     "execution_count": 183,
     "metadata": {},
     "output_type": "execute_result"
    }
   ],
   "source": [
    "# Reset index\n",
    "df_final.reset_index(drop=True)"
   ]
  },
  {
   "cell_type": "code",
   "execution_count": 184,
   "id": "c1d90b19-4a1f-40d2-a0a7-75561495c15d",
   "metadata": {},
   "outputs": [
    {
     "name": "stdout",
     "output_type": "stream",
     "text": [
      "<class 'pandas.core.frame.DataFrame'>\n",
      "Index: 6000 entries, 0 to 5999\n",
      "Data columns (total 5 columns):\n",
      " #   Column       Non-Null Count  Dtype   \n",
      "---  ------       --------------  -----   \n",
      " 0   index        6000 non-null   int64   \n",
      " 1   AgeGroup     6000 non-null   category\n",
      " 2   Age          6000 non-null   int64   \n",
      " 3   PlanType     6000 non-null   object  \n",
      " 4   Coinsurance  6000 non-null   int64   \n",
      "dtypes: category(1), int64(3), object(1)\n",
      "memory usage: 240.4+ KB\n"
     ]
    }
   ],
   "source": [
    "# display all columns, Non-Null Count and Dtype\n",
    "df_final.info()"
   ]
  },
  {
   "cell_type": "markdown",
   "id": "5f00df8d-de98-41f6-9148-88099daa11f6",
   "metadata": {},
   "source": [
    "### 3. Observations\n",
    "1. **Total raws and colums:** The dataset contains 6,000 rows(entries) and 5 columns\n",
    "2. **Data Types and possible issues**\n",
    "    - 2 Columns are int64: **Index, Age**\n",
    "    - 1 Columns are category: **AgeGroup**\n",
    "    - 1 Columns are object: **PlanType**\n",
    "    - 1 Columns are float64: **Copayment**"
   ]
  },
  {
   "cell_type": "code",
   "execution_count": 185,
   "id": "6da65b15-4d37-41ba-87b8-332eed67d185",
   "metadata": {},
   "outputs": [
    {
     "data": {
      "text/html": [
       "<div>\n",
       "<style scoped>\n",
       "    .dataframe tbody tr th:only-of-type {\n",
       "        vertical-align: middle;\n",
       "    }\n",
       "\n",
       "    .dataframe tbody tr th {\n",
       "        vertical-align: top;\n",
       "    }\n",
       "\n",
       "    .dataframe thead th {\n",
       "        text-align: right;\n",
       "    }\n",
       "</style>\n",
       "<table border=\"1\" class=\"dataframe\">\n",
       "  <thead>\n",
       "    <tr style=\"text-align: right;\">\n",
       "      <th></th>\n",
       "      <th>index</th>\n",
       "      <th>AgeGroup</th>\n",
       "      <th>Age</th>\n",
       "      <th>PlanType</th>\n",
       "      <th>Coinsurance</th>\n",
       "    </tr>\n",
       "  </thead>\n",
       "  <tbody>\n",
       "    <tr>\n",
       "      <th>0</th>\n",
       "      <td>0</td>\n",
       "      <td>0-20</td>\n",
       "      <td>20</td>\n",
       "      <td>PPO</td>\n",
       "      <td>40</td>\n",
       "    </tr>\n",
       "    <tr>\n",
       "      <th>658</th>\n",
       "      <td>658</td>\n",
       "      <td>0-20</td>\n",
       "      <td>20</td>\n",
       "      <td>PPO</td>\n",
       "      <td>39</td>\n",
       "    </tr>\n",
       "    <tr>\n",
       "      <th>659</th>\n",
       "      <td>659</td>\n",
       "      <td>0-20</td>\n",
       "      <td>20</td>\n",
       "      <td>Indemnity</td>\n",
       "      <td>45</td>\n",
       "    </tr>\n",
       "    <tr>\n",
       "      <th>660</th>\n",
       "      <td>660</td>\n",
       "      <td>0-20</td>\n",
       "      <td>20</td>\n",
       "      <td>PPO</td>\n",
       "      <td>23</td>\n",
       "    </tr>\n",
       "    <tr>\n",
       "      <th>661</th>\n",
       "      <td>661</td>\n",
       "      <td>0-20</td>\n",
       "      <td>20</td>\n",
       "      <td>EPO</td>\n",
       "      <td>14</td>\n",
       "    </tr>\n",
       "  </tbody>\n",
       "</table>\n",
       "</div>"
      ],
      "text/plain": [
       "     index AgeGroup  Age   PlanType  Coinsurance\n",
       "0        0     0-20   20        PPO           40\n",
       "658    658     0-20   20        PPO           39\n",
       "659    659     0-20   20  Indemnity           45\n",
       "660    660     0-20   20        PPO           23\n",
       "661    661     0-20   20        EPO           14"
      ]
     },
     "execution_count": 185,
     "metadata": {},
     "output_type": "execute_result"
    }
   ],
   "source": [
    "# display first 5 rows\n",
    "df_final.head()"
   ]
  },
  {
   "cell_type": "code",
   "execution_count": 186,
   "id": "6decb07f-ea6a-490d-a9be-245d165bbea0",
   "metadata": {},
   "outputs": [
    {
     "data": {
      "text/plain": [
       "['0-20', '21-25', '26-40', '41-60', '61-64', '65+']\n",
       "Categories (6, object): ['0-20' < '21-25' < '26-40' < '41-60' < '61-64' < '65+']"
      ]
     },
     "execution_count": 186,
     "metadata": {},
     "output_type": "execute_result"
    }
   ],
   "source": [
    "# Check for unique values in the AgeGroup column\n",
    "df_final['AgeGroup'].unique()"
   ]
  },
  {
   "cell_type": "code",
   "execution_count": 187,
   "id": "a0ff0aba-597d-4f08-a499-8313f7fb2b22",
   "metadata": {},
   "outputs": [
    {
     "data": {
      "text/plain": [
       "array(['PPO', 'Indemnity', 'EPO', 'HMO', 'POS'], dtype=object)"
      ]
     },
     "execution_count": 187,
     "metadata": {},
     "output_type": "execute_result"
    }
   ],
   "source": [
    "# Check for unique values in the PlanType column\n",
    "df_final['PlanType'].unique()"
   ]
  },
  {
   "cell_type": "code",
   "execution_count": 188,
   "id": "fc54a468-ba4b-409b-b740-5520c21b9106",
   "metadata": {},
   "outputs": [
    {
     "data": {
      "text/plain": [
       "array([20, 24, 23, 21, 25, 22, 39, 38, 32, 40, 29, 28, 31, 34, 36, 33, 37,\n",
       "       26, 30, 35, 27, 44, 57, 50, 51, 47, 54, 59, 48, 45, 52, 55, 56, 42,\n",
       "       41, 49, 53, 60, 46, 58, 43, 63, 62, 61, 64, 65])"
      ]
     },
     "execution_count": 188,
     "metadata": {},
     "output_type": "execute_result"
    }
   ],
   "source": [
    "# Check for unique values in the Age column\n",
    "df_final['Age'].unique()"
   ]
  },
  {
   "cell_type": "markdown",
   "id": "435e2d61-f815-460b-8c07-a222b20995ec",
   "metadata": {},
   "source": [
    "### 4. Handle unnecessary columns\n",
    "1. Drop 'index' columns\n",
    "2. Create CSV file"
   ]
  },
  {
   "cell_type": "code",
   "execution_count": 189,
   "id": "9c700105-f0dd-4b67-81cf-7ac6f4615c25",
   "metadata": {},
   "outputs": [
    {
     "data": {
      "text/html": [
       "<div>\n",
       "<style scoped>\n",
       "    .dataframe tbody tr th:only-of-type {\n",
       "        vertical-align: middle;\n",
       "    }\n",
       "\n",
       "    .dataframe tbody tr th {\n",
       "        vertical-align: top;\n",
       "    }\n",
       "\n",
       "    .dataframe thead th {\n",
       "        text-align: right;\n",
       "    }\n",
       "</style>\n",
       "<table border=\"1\" class=\"dataframe\">\n",
       "  <thead>\n",
       "    <tr style=\"text-align: right;\">\n",
       "      <th></th>\n",
       "      <th>AgeGroup</th>\n",
       "      <th>Age</th>\n",
       "      <th>PlanType</th>\n",
       "      <th>Coinsurance</th>\n",
       "    </tr>\n",
       "  </thead>\n",
       "  <tbody>\n",
       "    <tr>\n",
       "      <th>0</th>\n",
       "      <td>0-20</td>\n",
       "      <td>20</td>\n",
       "      <td>PPO</td>\n",
       "      <td>40</td>\n",
       "    </tr>\n",
       "    <tr>\n",
       "      <th>658</th>\n",
       "      <td>0-20</td>\n",
       "      <td>20</td>\n",
       "      <td>PPO</td>\n",
       "      <td>39</td>\n",
       "    </tr>\n",
       "    <tr>\n",
       "      <th>659</th>\n",
       "      <td>0-20</td>\n",
       "      <td>20</td>\n",
       "      <td>Indemnity</td>\n",
       "      <td>45</td>\n",
       "    </tr>\n",
       "    <tr>\n",
       "      <th>660</th>\n",
       "      <td>0-20</td>\n",
       "      <td>20</td>\n",
       "      <td>PPO</td>\n",
       "      <td>23</td>\n",
       "    </tr>\n",
       "    <tr>\n",
       "      <th>661</th>\n",
       "      <td>0-20</td>\n",
       "      <td>20</td>\n",
       "      <td>EPO</td>\n",
       "      <td>14</td>\n",
       "    </tr>\n",
       "  </tbody>\n",
       "</table>\n",
       "</div>"
      ],
      "text/plain": [
       "    AgeGroup  Age   PlanType  Coinsurance\n",
       "0       0-20   20        PPO           40\n",
       "658     0-20   20        PPO           39\n",
       "659     0-20   20  Indemnity           45\n",
       "660     0-20   20        PPO           23\n",
       "661     0-20   20        EPO           14"
      ]
     },
     "execution_count": 189,
     "metadata": {},
     "output_type": "execute_result"
    }
   ],
   "source": [
    "# Step1: Drop 'index' columns\n",
    "df_final = df_final.drop(columns=['index'])\n",
    "# display first 5 rows\n",
    "df_final.head()"
   ]
  },
  {
   "cell_type": "code",
   "execution_count": 190,
   "id": "e6b38beb-b403-4967-9ac6-3618d74b5cd1",
   "metadata": {},
   "outputs": [],
   "source": [
    "# Set the original column name (Coinsurance) and new name (Coinsurance Percentage)\n",
    "df_final.rename(columns={'Coinsurance': 'Coinsurance Percentage'}, inplace=True)\n",
    "\n",
    "# Convert percentage to decimal number\n",
    "df_final['Coinsurance'] = df['Coinsurance'] / 100"
   ]
  },
  {
   "cell_type": "code",
   "execution_count": 193,
   "id": "804a877a-8d22-4092-9397-7e6aef312206",
   "metadata": {},
   "outputs": [],
   "source": [
    "# Drop unuse column\n",
    "df_final = df_final.dropna(subset=['Coinsurance Percentage'])"
   ]
  },
  {
   "cell_type": "code",
   "execution_count": 194,
   "id": "04943cee-3456-4036-b60f-17a1530fc26e",
   "metadata": {},
   "outputs": [
    {
     "data": {
      "text/html": [
       "<div>\n",
       "<style scoped>\n",
       "    .dataframe tbody tr th:only-of-type {\n",
       "        vertical-align: middle;\n",
       "    }\n",
       "\n",
       "    .dataframe tbody tr th {\n",
       "        vertical-align: top;\n",
       "    }\n",
       "\n",
       "    .dataframe thead th {\n",
       "        text-align: right;\n",
       "    }\n",
       "</style>\n",
       "<table border=\"1\" class=\"dataframe\">\n",
       "  <thead>\n",
       "    <tr style=\"text-align: right;\">\n",
       "      <th></th>\n",
       "      <th>AgeGroup</th>\n",
       "      <th>Age</th>\n",
       "      <th>PlanType</th>\n",
       "      <th>Coinsurance Percentage</th>\n",
       "      <th>Coinsurance</th>\n",
       "    </tr>\n",
       "  </thead>\n",
       "  <tbody>\n",
       "    <tr>\n",
       "      <th>0</th>\n",
       "      <td>0-20</td>\n",
       "      <td>20</td>\n",
       "      <td>PPO</td>\n",
       "      <td>40</td>\n",
       "      <td>0.40</td>\n",
       "    </tr>\n",
       "    <tr>\n",
       "      <th>1</th>\n",
       "      <td>0-20</td>\n",
       "      <td>20</td>\n",
       "      <td>EPO</td>\n",
       "      <td>0</td>\n",
       "      <td>0.00</td>\n",
       "    </tr>\n",
       "    <tr>\n",
       "      <th>2</th>\n",
       "      <td>0-20</td>\n",
       "      <td>20</td>\n",
       "      <td>POS</td>\n",
       "      <td>0</td>\n",
       "      <td>0.00</td>\n",
       "    </tr>\n",
       "    <tr>\n",
       "      <th>3</th>\n",
       "      <td>0-20</td>\n",
       "      <td>20</td>\n",
       "      <td>HMO</td>\n",
       "      <td>0</td>\n",
       "      <td>0.00</td>\n",
       "    </tr>\n",
       "    <tr>\n",
       "      <th>4</th>\n",
       "      <td>0-20</td>\n",
       "      <td>20</td>\n",
       "      <td>PPO</td>\n",
       "      <td>28</td>\n",
       "      <td>0.28</td>\n",
       "    </tr>\n",
       "    <tr>\n",
       "      <th>...</th>\n",
       "      <td>...</td>\n",
       "      <td>...</td>\n",
       "      <td>...</td>\n",
       "      <td>...</td>\n",
       "      <td>...</td>\n",
       "    </tr>\n",
       "    <tr>\n",
       "      <th>5995</th>\n",
       "      <td>65+</td>\n",
       "      <td>65</td>\n",
       "      <td>PPO</td>\n",
       "      <td>29</td>\n",
       "      <td>0.29</td>\n",
       "    </tr>\n",
       "    <tr>\n",
       "      <th>5996</th>\n",
       "      <td>65+</td>\n",
       "      <td>65</td>\n",
       "      <td>HMO</td>\n",
       "      <td>0</td>\n",
       "      <td>0.00</td>\n",
       "    </tr>\n",
       "    <tr>\n",
       "      <th>5997</th>\n",
       "      <td>65+</td>\n",
       "      <td>65</td>\n",
       "      <td>HMO</td>\n",
       "      <td>15</td>\n",
       "      <td>0.15</td>\n",
       "    </tr>\n",
       "    <tr>\n",
       "      <th>5998</th>\n",
       "      <td>65+</td>\n",
       "      <td>65</td>\n",
       "      <td>PPO</td>\n",
       "      <td>40</td>\n",
       "      <td>0.40</td>\n",
       "    </tr>\n",
       "    <tr>\n",
       "      <th>5999</th>\n",
       "      <td>65+</td>\n",
       "      <td>65</td>\n",
       "      <td>HMO</td>\n",
       "      <td>7</td>\n",
       "      <td>0.07</td>\n",
       "    </tr>\n",
       "  </tbody>\n",
       "</table>\n",
       "<p>6000 rows × 5 columns</p>\n",
       "</div>"
      ],
      "text/plain": [
       "     AgeGroup  Age PlanType  Coinsurance Percentage  Coinsurance\n",
       "0        0-20   20      PPO                      40         0.40\n",
       "1        0-20   20      EPO                       0         0.00\n",
       "2        0-20   20      POS                       0         0.00\n",
       "3        0-20   20      HMO                       0         0.00\n",
       "4        0-20   20      PPO                      28         0.28\n",
       "...       ...  ...      ...                     ...          ...\n",
       "5995      65+   65      PPO                      29         0.29\n",
       "5996      65+   65      HMO                       0         0.00\n",
       "5997      65+   65      HMO                      15         0.15\n",
       "5998      65+   65      PPO                      40         0.40\n",
       "5999      65+   65      HMO                       7         0.07\n",
       "\n",
       "[6000 rows x 5 columns]"
      ]
     },
     "execution_count": 194,
     "metadata": {},
     "output_type": "execute_result"
    }
   ],
   "source": [
    "# Sort 'Age' column\n",
    "df_final = df_final.sort_values(by='Age')\n",
    "\n",
    "# Reset index and drop index columns\n",
    "df_final = df_final.reset_index(drop=True)\n",
    "\n",
    "# Display\n",
    "df_final"
   ]
  },
  {
   "cell_type": "code",
   "execution_count": 195,
   "id": "71d19283-6cfa-4b48-ad64-1477cd79ca46",
   "metadata": {},
   "outputs": [
    {
     "name": "stdout",
     "output_type": "stream",
     "text": [
      "<class 'pandas.core.frame.DataFrame'>\n",
      "RangeIndex: 6000 entries, 0 to 5999\n",
      "Data columns (total 5 columns):\n",
      " #   Column                  Non-Null Count  Dtype   \n",
      "---  ------                  --------------  -----   \n",
      " 0   AgeGroup                6000 non-null   category\n",
      " 1   Age                     6000 non-null   int64   \n",
      " 2   PlanType                6000 non-null   object  \n",
      " 3   Coinsurance Percentage  6000 non-null   int64   \n",
      " 4   Coinsurance             6000 non-null   float64 \n",
      "dtypes: category(1), float64(1), int64(2), object(1)\n",
      "memory usage: 193.7+ KB\n"
     ]
    }
   ],
   "source": [
    "# display all columns, Non-Null Count and Dtype\n",
    "df_final.info()"
   ]
  },
  {
   "cell_type": "code",
   "execution_count": 196,
   "id": "d5d2e3ce-842c-4b24-b947-8fe05c63e2c8",
   "metadata": {},
   "outputs": [
    {
     "data": {
      "text/plain": [
       "array([0.4 , 0.  , 0.28, 0.13, 0.45, 0.42, 0.33, 0.11, 0.18, 0.09, 0.3 ,\n",
       "       0.26, 0.08, 0.04, 0.36, 0.16, 0.25, 0.31, 0.07, 0.24, 0.27, 0.15,\n",
       "       0.14, 0.03, 0.38, 0.66, 0.29, 0.01, 0.06, 0.43, 0.68, 0.12, 0.48,\n",
       "       0.22, 0.05, 0.2 , 0.21, 0.35, 0.23, 0.02, 0.19, 0.17, 0.62, 0.63,\n",
       "       0.55, 0.64, 0.1 , 0.7 , 0.32, 0.46, 0.34, 0.77, 0.37, 0.67, 0.39,\n",
       "       0.44, 0.65, 0.47, 0.72, 0.52, 0.5 , 0.75, 0.6 , 0.61, 0.49, 0.76])"
      ]
     },
     "execution_count": 196,
     "metadata": {},
     "output_type": "execute_result"
    }
   ],
   "source": [
    "# Used to retrieve all unique values from the Coin column in df_final\n",
    "df_final['Coinsurance'].unique()"
   ]
  },
  {
   "cell_type": "code",
   "execution_count": 197,
   "id": "ab9e6db6-93d5-4c9b-ab79-e5482412da9e",
   "metadata": {},
   "outputs": [],
   "source": [
    "# Create CSV file\n",
    "df_final.to_csv('final_binning.csv')"
   ]
  },
  {
   "cell_type": "code",
   "execution_count": null,
   "id": "daf3a7cc-eed1-4726-a8de-25e727ddbbbc",
   "metadata": {},
   "outputs": [],
   "source": []
  }
 ],
 "metadata": {
  "kernelspec": {
   "display_name": "Python 3 (ipykernel)",
   "language": "python",
   "name": "python3"
  },
  "language_info": {
   "codemirror_mode": {
    "name": "ipython",
    "version": 3
   },
   "file_extension": ".py",
   "mimetype": "text/x-python",
   "name": "python",
   "nbconvert_exporter": "python",
   "pygments_lexer": "ipython3",
   "version": "3.12.6"
  }
 },
 "nbformat": 4,
 "nbformat_minor": 5
}
